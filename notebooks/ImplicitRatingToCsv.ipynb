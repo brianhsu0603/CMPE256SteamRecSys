{
 "cells": [
  {
   "cell_type": "code",
   "execution_count": 2,
   "metadata": {},
   "outputs": [],
   "source": [
    "# load data into dataframe\n",
    "\n",
    "import numpy as np\n",
    "import pandas as pd\n",
    "\n",
    "ui_data = pd.read_json('../data/australian_users_items_fixed.json')\n",
    "ur_data = pd.read_json('../data/australian_user_reviews_fixed.json')\n"
   ]
  },
  {
   "cell_type": "code",
   "execution_count": 116,
   "metadata": {},
   "outputs": [
    {
     "name": "stdout",
     "output_type": "stream",
     "text": [
      "86953\n",
      "25176\n"
     ]
    }
   ],
   "source": [
    "ui_data.drop_duplicates(subset =\"user_id\", keep = False, inplace = True)\n",
    "ur_data.drop_duplicates(subset =\"user_id\", keep = False, inplace = True)\n",
    "ui_data.dropna(subset = [\"user_id\"], inplace=True)\n",
    "ur_data.dropna(subset = [\"user_id\"], inplace=True)\n",
    "print(len(ui_data))\n",
    "print(len(ur_data))"
   ]
  },
  {
   "cell_type": "code",
   "execution_count": 117,
   "metadata": {},
   "outputs": [
    {
     "data": {
      "text/plain": [
       "'\\nPlaytime:\\n>= 30 +1,\\n> 300 +1,\\n> 1000 +1\\n\\nRecommend:\\nrecommend +1\\nnot recommend -1\\n'"
      ]
     },
     "execution_count": 117,
     "metadata": {},
     "output_type": "execute_result"
    }
   ],
   "source": [
    "# creating output format\n",
    "\n",
    "ratings = {'user_id': [],\n",
    "           'item_id': [],\n",
    "           'rating': []\n",
    "          } \n",
    "\n",
    "\n",
    "#rating criteria:\n",
    "\n",
    "'''\n",
    "Playtime:\n",
    ">= 30 +1,\n",
    "> 300 +1,\n",
    "> 1000 +1\n",
    "\n",
    "Recommend:\n",
    "recommend +1\n",
    "not recommend -1\n",
    "'''"
   ]
  },
  {
   "cell_type": "code",
   "execution_count": 118,
   "metadata": {},
   "outputs": [],
   "source": [
    "# function for extracting item_id\n",
    "\n",
    "def extract_item_ids(reviews):\n",
    "    item_ids = []\n",
    "    for i in range(len(reviews)):\n",
    "        item_ids.append(reviews[0][i]['item_id'])\n",
    "    return item_ids"
   ]
  },
  {
   "cell_type": "code",
   "execution_count": 119,
   "metadata": {},
   "outputs": [],
   "source": [
    "# compute rating for each user-item pair\n",
    "\n",
    "for u in range(len(ui_data)):\n",
    "    \n",
    "    user = ui_data.iloc[u]\n",
    "    \n",
    "    for num in range(user['items_count']):\n",
    "        \n",
    "        rating = 1\n",
    "        ratings['user_id'].append(user['user_id'])\n",
    "        ratings['item_id'].append(user['items'][num]['item_id'])\n",
    "        \n",
    "        \n",
    "        if 30 <= user['items'][num]['playtime_forever'] < 300:\n",
    "            rating += 1\n",
    "        elif 300 <= user['items'][num]['playtime_forever'] < 1000:\n",
    "            rating += 2\n",
    "        elif 1000 <= user['items'][num]['playtime_forever']:\n",
    "            rating += 3\n",
    "        else:\n",
    "            rating += 0\n",
    "        \n",
    "        if user['user_id'] in ur_data['user_id']:\n",
    "            \n",
    "            reviews = ur_data.loc[ur_data['user_id'] == user['user_id']]['reviews']\n",
    "            \n",
    "            if user['items'][num]['item_id'] in extract_item_ids(reviews):\n",
    "            \n",
    "                review = reviews['item_id' == user['items'][num]['item_id']]\n",
    "                \n",
    "                if review['recommend'] == True:\n",
    "                    rating += 1\n",
    "                elif review['recommend'] == False:\n",
    "                    rating -= 1\n",
    "                else:\n",
    "                    ratings['rating'].append(rating)\n",
    "                    continue\n",
    "            else:\n",
    "                ratings['rating'].append(rating)\n",
    "                continue\n",
    "        else:\n",
    "            ratings['rating'].append(rating)\n",
    "            continue"
   ]
  },
  {
   "cell_type": "code",
   "execution_count": 120,
   "metadata": {},
   "outputs": [],
   "source": [
    "# output the result to a .csv file\n",
    "\n",
    "output_df = pd.DataFrame(ratings, columns = ['user_id','item_id','rating']) # forming the dataframe\n",
    "\n",
    "output_df.to_csv(r'/Users/brian80433/Desktop/256Project/data/ratings.csv', index = False, header=True) # output file\n",
    "\n"
   ]
  },
  {
   "cell_type": "code",
   "execution_count": null,
   "metadata": {},
   "outputs": [],
   "source": []
  }
 ],
 "metadata": {
  "kernelspec": {
   "display_name": "Python 3",
   "language": "python",
   "name": "python3"
  },
  "language_info": {
   "codemirror_mode": {
    "name": "ipython",
    "version": 3
   },
   "file_extension": ".py",
   "mimetype": "text/x-python",
   "name": "python",
   "nbconvert_exporter": "python",
   "pygments_lexer": "ipython3",
   "version": "3.8.3"
  }
 },
 "nbformat": 4,
 "nbformat_minor": 4
}
