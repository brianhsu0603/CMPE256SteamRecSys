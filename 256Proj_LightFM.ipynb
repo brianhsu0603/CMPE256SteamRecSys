{
 "cells": [
  {
   "cell_type": "code",
   "execution_count": 170,
   "metadata": {
    "scrolled": true
   },
   "outputs": [],
   "source": [
    "import pandas as pd\n",
    "import numpy as np\n",
    "import time\n",
    "import os.path as path\n",
    "from ast import literal_eval\n",
    "from itertools import product\n",
    "import matplotlib.pyplot as plt"
   ]
  },
  {
   "cell_type": "code",
   "execution_count": 2,
   "metadata": {},
   "outputs": [
    {
     "name": "stderr",
     "output_type": "stream",
     "text": [
      "/Users/sijiazong/opt/anaconda3/lib/python3.8/site-packages/lightfm/_lightfm_fast.py:9: UserWarning: LightFM was compiled without OpenMP support. Only a single thread will be used.\n",
      "  warnings.warn('LightFM was compiled without OpenMP support. '\n"
     ]
    }
   ],
   "source": [
    "from lightfm import LightFM\n",
    "from lightfm.data import Dataset\n",
    "from lightfm.cross_validation import random_train_test_split\n",
    "from lightfm.evaluation import precision_at_k\n",
    "from lightfm.evaluation import auc_score"
   ]
  },
  {
   "cell_type": "markdown",
   "metadata": {},
   "source": [
    "## Prepare datasets(user_item_ratings, game_metadata, game_id_name_pairs)"
   ]
  },
  {
   "cell_type": "markdown",
   "metadata": {},
   "source": [
    "- User item ratings"
   ]
  },
  {
   "cell_type": "code",
   "execution_count": 3,
   "metadata": {},
   "outputs": [
    {
     "data": {
      "text/html": [
       "<div>\n",
       "<style scoped>\n",
       "    .dataframe tbody tr th:only-of-type {\n",
       "        vertical-align: middle;\n",
       "    }\n",
       "\n",
       "    .dataframe tbody tr th {\n",
       "        vertical-align: top;\n",
       "    }\n",
       "\n",
       "    .dataframe thead th {\n",
       "        text-align: right;\n",
       "    }\n",
       "</style>\n",
       "<table border=\"1\" class=\"dataframe\">\n",
       "  <thead>\n",
       "    <tr style=\"text-align: right;\">\n",
       "      <th></th>\n",
       "      <th>steam_id</th>\n",
       "      <th>item_id</th>\n",
       "    </tr>\n",
       "  </thead>\n",
       "  <tbody>\n",
       "    <tr>\n",
       "      <th>0</th>\n",
       "      <td>76561197970982479</td>\n",
       "      <td>10</td>\n",
       "    </tr>\n",
       "    <tr>\n",
       "      <th>1</th>\n",
       "      <td>76561197970982479</td>\n",
       "      <td>30</td>\n",
       "    </tr>\n",
       "    <tr>\n",
       "      <th>2</th>\n",
       "      <td>76561197970982479</td>\n",
       "      <td>300</td>\n",
       "    </tr>\n",
       "    <tr>\n",
       "      <th>3</th>\n",
       "      <td>76561197970982479</td>\n",
       "      <td>240</td>\n",
       "    </tr>\n",
       "    <tr>\n",
       "      <th>4</th>\n",
       "      <td>76561197970982479</td>\n",
       "      <td>3830</td>\n",
       "    </tr>\n",
       "    <tr>\n",
       "      <th>...</th>\n",
       "      <td>...</td>\n",
       "      <td>...</td>\n",
       "    </tr>\n",
       "    <tr>\n",
       "      <th>3246347</th>\n",
       "      <td>76561198329548331</td>\n",
       "      <td>304930</td>\n",
       "    </tr>\n",
       "    <tr>\n",
       "      <th>3246348</th>\n",
       "      <td>76561198329548331</td>\n",
       "      <td>227940</td>\n",
       "    </tr>\n",
       "    <tr>\n",
       "      <th>3246349</th>\n",
       "      <td>76561198329548331</td>\n",
       "      <td>388490</td>\n",
       "    </tr>\n",
       "    <tr>\n",
       "      <th>3246350</th>\n",
       "      <td>76561198329548331</td>\n",
       "      <td>521570</td>\n",
       "    </tr>\n",
       "    <tr>\n",
       "      <th>3246351</th>\n",
       "      <td>76561198329548331</td>\n",
       "      <td>519140</td>\n",
       "    </tr>\n",
       "  </tbody>\n",
       "</table>\n",
       "<p>3246352 rows × 2 columns</p>\n",
       "</div>"
      ],
      "text/plain": [
       "                  steam_id  item_id\n",
       "0        76561197970982479       10\n",
       "1        76561197970982479       30\n",
       "2        76561197970982479      300\n",
       "3        76561197970982479      240\n",
       "4        76561197970982479     3830\n",
       "...                    ...      ...\n",
       "3246347  76561198329548331   304930\n",
       "3246348  76561198329548331   227940\n",
       "3246349  76561198329548331   388490\n",
       "3246350  76561198329548331   521570\n",
       "3246351  76561198329548331   519140\n",
       "\n",
       "[3246352 rows x 2 columns]"
      ]
     },
     "execution_count": 3,
     "metadata": {},
     "output_type": "execute_result"
    }
   ],
   "source": [
    "user_item_df = pd.read_csv(\"user_item_played_pair.csv\")\n",
    "user_item_df"
   ]
  },
  {
   "cell_type": "code",
   "execution_count": 4,
   "metadata": {},
   "outputs": [
    {
     "data": {
      "text/html": [
       "<div>\n",
       "<style scoped>\n",
       "    .dataframe tbody tr th:only-of-type {\n",
       "        vertical-align: middle;\n",
       "    }\n",
       "\n",
       "    .dataframe tbody tr th {\n",
       "        vertical-align: top;\n",
       "    }\n",
       "\n",
       "    .dataframe thead th {\n",
       "        text-align: right;\n",
       "    }\n",
       "</style>\n",
       "<table border=\"1\" class=\"dataframe\">\n",
       "  <thead>\n",
       "    <tr style=\"text-align: right;\">\n",
       "      <th></th>\n",
       "      <th>steam_id</th>\n",
       "      <th>item_id</th>\n",
       "    </tr>\n",
       "  </thead>\n",
       "  <tbody>\n",
       "  </tbody>\n",
       "</table>\n",
       "</div>"
      ],
      "text/plain": [
       "Empty DataFrame\n",
       "Columns: [steam_id, item_id]\n",
       "Index: []"
      ]
     },
     "execution_count": 4,
     "metadata": {},
     "output_type": "execute_result"
    }
   ],
   "source": [
    "user_item_df[user_item_df.steam_id==317160]"
   ]
  },
  {
   "cell_type": "code",
   "execution_count": 5,
   "metadata": {},
   "outputs": [
    {
     "data": {
      "text/html": [
       "<div>\n",
       "<style scoped>\n",
       "    .dataframe tbody tr th:only-of-type {\n",
       "        vertical-align: middle;\n",
       "    }\n",
       "\n",
       "    .dataframe tbody tr th {\n",
       "        vertical-align: top;\n",
       "    }\n",
       "\n",
       "    .dataframe thead th {\n",
       "        text-align: right;\n",
       "    }\n",
       "</style>\n",
       "<table border=\"1\" class=\"dataframe\">\n",
       "  <thead>\n",
       "    <tr style=\"text-align: right;\">\n",
       "      <th></th>\n",
       "      <th>steam_id</th>\n",
       "      <th>item_id</th>\n",
       "    </tr>\n",
       "  </thead>\n",
       "  <tbody>\n",
       "  </tbody>\n",
       "</table>\n",
       "</div>"
      ],
      "text/plain": [
       "Empty DataFrame\n",
       "Columns: [steam_id, item_id]\n",
       "Index: []"
      ]
     },
     "execution_count": 5,
     "metadata": {},
     "output_type": "execute_result"
    }
   ],
   "source": [
    "user_item_df[user_item_df.item_id==317160]"
   ]
  },
  {
   "cell_type": "code",
   "execution_count": 6,
   "metadata": {
    "scrolled": true
   },
   "outputs": [],
   "source": [
    "num_users = user_item_df.steam_id.nunique()"
   ]
  },
  {
   "cell_type": "code",
   "execution_count": 7,
   "metadata": {},
   "outputs": [],
   "source": [
    "num_items = user_item_df.item_id.nunique()"
   ]
  },
  {
   "cell_type": "code",
   "execution_count": 8,
   "metadata": {
    "scrolled": false
   },
   "outputs": [
    {
     "name": "stdout",
     "output_type": "stream",
     "text": [
      "There are 68403 steam users and 10050 games.\n"
     ]
    }
   ],
   "source": [
    "print('There are {} steam users and {} games.'.format(num_users, num_items))"
   ]
  },
  {
   "cell_type": "markdown",
   "metadata": {},
   "source": [
    "- Games Metadata"
   ]
  },
  {
   "cell_type": "code",
   "execution_count": 247,
   "metadata": {
    "scrolled": true
   },
   "outputs": [],
   "source": [
    "games = pd.read_csv(\"games_metadata.csv\")"
   ]
  },
  {
   "cell_type": "code",
   "execution_count": 248,
   "metadata": {},
   "outputs": [
    {
     "data": {
      "text/plain": [
       "4.99      4278\n",
       "9.99      3902\n",
       "2.99      3429\n",
       "0.99      2607\n",
       "1.99      2541\n",
       "          ... \n",
       "109.99       1\n",
       "10.49        1\n",
       "771.71       1\n",
       "179.00       1\n",
       "41.99        1\n",
       "Name: price, Length: 145, dtype: int64"
      ]
     },
     "execution_count": 248,
     "metadata": {},
     "output_type": "execute_result"
    }
   ],
   "source": [
    "games.price.value_counts()"
   ]
  },
  {
   "cell_type": "code",
   "execution_count": 249,
   "metadata": {},
   "outputs": [],
   "source": [
    "# create feature for game price category\n",
    "bins = [-1, 0, 10, 60, 1000]\n",
    "labels= ['Free', 'Low', 'Midum', 'High']\n",
    "games['price_category'] = pd.cut(games['price'], bins=bins, labels=labels)"
   ]
  },
  {
   "cell_type": "code",
   "execution_count": 250,
   "metadata": {
    "scrolled": true
   },
   "outputs": [
    {
     "data": {
      "text/plain": [
       "<matplotlib.axes._subplots.AxesSubplot at 0x7faf30d49b20>"
      ]
     },
     "execution_count": 250,
     "metadata": {},
     "output_type": "execute_result"
    },
    {
     "data": {
      "image/png": "[encoded data removed]",
      "text/plain": [
       "<Figure size 432x288 with 1 Axes>"
      ]
     },
     "metadata": {
      "needs_background": "light"
     },
     "output_type": "display_data"
    }
   ],
   "source": [
    "pd.value_counts(games['price_category']).plot(kind=\"bar\")"
   ]
  },
  {
   "cell_type": "code",
   "execution_count": 251,
   "metadata": {},
   "outputs": [],
   "source": [
    "# create feature for game release year\n",
    "games['release_year'] = games['release_date'].apply(lambda s: pd.to_datetime(s, errors='coerce').year)"
   ]
  },
  {
   "cell_type": "code",
   "execution_count": 252,
   "metadata": {},
   "outputs": [
    {
     "name": "stdout",
     "output_type": "stream",
     "text": [
      "<class 'pandas.core.frame.DataFrame'>\n",
      "RangeIndex: 32131 entries, 0 to 32130\n",
      "Data columns (total 20 columns):\n",
      " #   Column          Non-Null Count  Dtype   \n",
      "---  ------          --------------  -----   \n",
      " 0   publisher       24071 non-null  object  \n",
      " 1   genres          28849 non-null  object  \n",
      " 2   app_name        32131 non-null  object  \n",
      " 3   title           30083 non-null  object  \n",
      " 4   url             32131 non-null  object  \n",
      " 5   release_date    30065 non-null  object  \n",
      " 6   tags            31969 non-null  object  \n",
      " 7   discount_price  224 non-null    float64 \n",
      " 8   reviews_url     32131 non-null  object  \n",
      " 9   specs           31462 non-null  object  \n",
      " 10  price           30747 non-null  float64 \n",
      " 11  early_access    32131 non-null  bool    \n",
      " 12  id              32131 non-null  float64 \n",
      " 13  developer       28834 non-null  object  \n",
      " 14  sentiment       24950 non-null  object  \n",
      " 15  metascore       2605 non-null   float64 \n",
      " 16  item_id         2334 non-null   float64 \n",
      " 17  bundles         2334 non-null   object  \n",
      " 18  price_category  30747 non-null  category\n",
      " 19  release_year    29891 non-null  float64 \n",
      "dtypes: bool(1), category(1), float64(6), object(12)\n",
      "memory usage: 4.5+ MB\n"
     ]
    }
   ],
   "source": [
    "games.info()"
   ]
  },
  {
   "cell_type": "markdown",
   "metadata": {},
   "source": [
    "- All game id/name pair in both metadata/useritem pair"
   ]
  },
  {
   "cell_type": "code",
   "execution_count": 253,
   "metadata": {},
   "outputs": [],
   "source": [
    "all_games = pd.read_csv(\"all_games_id_name_pair.csv\")"
   ]
  },
  {
   "cell_type": "code",
   "execution_count": 254,
   "metadata": {},
   "outputs": [
    {
     "data": {
      "text/html": [
       "<div>\n",
       "<style scoped>\n",
       "    .dataframe tbody tr th:only-of-type {\n",
       "        vertical-align: middle;\n",
       "    }\n",
       "\n",
       "    .dataframe tbody tr th {\n",
       "        vertical-align: top;\n",
       "    }\n",
       "\n",
       "    .dataframe thead th {\n",
       "        text-align: right;\n",
       "    }\n",
       "</style>\n",
       "<table border=\"1\" class=\"dataframe\">\n",
       "  <thead>\n",
       "    <tr style=\"text-align: right;\">\n",
       "      <th></th>\n",
       "      <th>publisher</th>\n",
       "      <th>genres</th>\n",
       "      <th>app_name</th>\n",
       "      <th>title</th>\n",
       "      <th>url</th>\n",
       "      <th>release_date</th>\n",
       "      <th>tags</th>\n",
       "      <th>discount_price</th>\n",
       "      <th>reviews_url</th>\n",
       "      <th>specs</th>\n",
       "      <th>price</th>\n",
       "      <th>early_access</th>\n",
       "      <th>id</th>\n",
       "      <th>developer</th>\n",
       "      <th>sentiment</th>\n",
       "      <th>metascore</th>\n",
       "      <th>item_id</th>\n",
       "      <th>bundles</th>\n",
       "      <th>price_category</th>\n",
       "      <th>release_year</th>\n",
       "    </tr>\n",
       "  </thead>\n",
       "  <tbody>\n",
       "  </tbody>\n",
       "</table>\n",
       "</div>"
      ],
      "text/plain": [
       "Empty DataFrame\n",
       "Columns: [publisher, genres, app_name, title, url, release_date, tags, discount_price, reviews_url, specs, price, early_access, id, developer, sentiment, metascore, item_id, bundles, price_category, release_year]\n",
       "Index: []"
      ]
     },
     "execution_count": 254,
     "metadata": {},
     "output_type": "execute_result"
    }
   ],
   "source": [
    "games[games.id == 317160]"
   ]
  },
  {
   "cell_type": "code",
   "execution_count": 255,
   "metadata": {
    "scrolled": true
   },
   "outputs": [
    {
     "data": {
      "text/html": [
       "<div>\n",
       "<style scoped>\n",
       "    .dataframe tbody tr th:only-of-type {\n",
       "        vertical-align: middle;\n",
       "    }\n",
       "\n",
       "    .dataframe tbody tr th {\n",
       "        vertical-align: top;\n",
       "    }\n",
       "\n",
       "    .dataframe thead th {\n",
       "        text-align: right;\n",
       "    }\n",
       "</style>\n",
       "<table border=\"1\" class=\"dataframe\">\n",
       "  <thead>\n",
       "    <tr style=\"text-align: right;\">\n",
       "      <th></th>\n",
       "      <th>item_id</th>\n",
       "      <th>item_name</th>\n",
       "    </tr>\n",
       "  </thead>\n",
       "  <tbody>\n",
       "  </tbody>\n",
       "</table>\n",
       "</div>"
      ],
      "text/plain": [
       "Empty DataFrame\n",
       "Columns: [item_id, item_name]\n",
       "Index: []"
      ]
     },
     "execution_count": 255,
     "metadata": {},
     "output_type": "execute_result"
    }
   ],
   "source": [
    "all_games[all_games.item_id == 317160]"
   ]
  },
  {
   "cell_type": "markdown",
   "metadata": {},
   "source": [
    "## Building functions to generate item features data"
   ]
  },
  {
   "cell_type": "code",
   "execution_count": 256,
   "metadata": {
    "scrolled": true
   },
   "outputs": [
    {
     "data": {
      "text/html": [
       "<div>\n",
       "<style scoped>\n",
       "    .dataframe tbody tr th:only-of-type {\n",
       "        vertical-align: middle;\n",
       "    }\n",
       "\n",
       "    .dataframe tbody tr th {\n",
       "        vertical-align: top;\n",
       "    }\n",
       "\n",
       "    .dataframe thead th {\n",
       "        text-align: right;\n",
       "    }\n",
       "</style>\n",
       "<table border=\"1\" class=\"dataframe\">\n",
       "  <thead>\n",
       "    <tr style=\"text-align: right;\">\n",
       "      <th></th>\n",
       "      <th>publisher</th>\n",
       "      <th>developer</th>\n",
       "      <th>genres</th>\n",
       "      <th>tags</th>\n",
       "      <th>specs</th>\n",
       "      <th>bundles</th>\n",
       "      <th>price</th>\n",
       "      <th>release_year</th>\n",
       "    </tr>\n",
       "  </thead>\n",
       "  <tbody>\n",
       "    <tr>\n",
       "      <th>0</th>\n",
       "      <td>Kotoshiro</td>\n",
       "      <td>Kotoshiro</td>\n",
       "      <td>['Action', 'Casual', 'Indie', 'Simulation', 'S...</td>\n",
       "      <td>['Strategy', 'Action', 'Indie', 'Casual', 'Sim...</td>\n",
       "      <td>['Single-player']</td>\n",
       "      <td>NaN</td>\n",
       "      <td>4.99</td>\n",
       "      <td>2018.0</td>\n",
       "    </tr>\n",
       "    <tr>\n",
       "      <th>1</th>\n",
       "      <td>Making Fun, Inc.</td>\n",
       "      <td>Secret Level SRL</td>\n",
       "      <td>['Free to Play', 'Indie', 'RPG', 'Strategy']</td>\n",
       "      <td>['Free to Play', 'Strategy', 'Indie', 'RPG', '...</td>\n",
       "      <td>['Single-player', 'Multi-player', 'Online Mult...</td>\n",
       "      <td>NaN</td>\n",
       "      <td>0.00</td>\n",
       "      <td>2018.0</td>\n",
       "    </tr>\n",
       "    <tr>\n",
       "      <th>2</th>\n",
       "      <td>Poolians.com</td>\n",
       "      <td>Poolians.com</td>\n",
       "      <td>['Casual', 'Free to Play', 'Indie', 'Simulatio...</td>\n",
       "      <td>['Free to Play', 'Simulation', 'Sports', 'Casu...</td>\n",
       "      <td>['Single-player', 'Multi-player', 'Online Mult...</td>\n",
       "      <td>NaN</td>\n",
       "      <td>0.00</td>\n",
       "      <td>2017.0</td>\n",
       "    </tr>\n",
       "    <tr>\n",
       "      <th>3</th>\n",
       "      <td>彼岸领域</td>\n",
       "      <td>彼岸领域</td>\n",
       "      <td>['Action', 'Adventure', 'Casual']</td>\n",
       "      <td>['Action', 'Adventure', 'Casual']</td>\n",
       "      <td>['Single-player']</td>\n",
       "      <td>NaN</td>\n",
       "      <td>0.99</td>\n",
       "      <td>2017.0</td>\n",
       "    </tr>\n",
       "    <tr>\n",
       "      <th>4</th>\n",
       "      <td>NaN</td>\n",
       "      <td>NaN</td>\n",
       "      <td>NaN</td>\n",
       "      <td>['Action', 'Indie', 'Casual', 'Sports']</td>\n",
       "      <td>['Single-player', 'Full controller support', '...</td>\n",
       "      <td>NaN</td>\n",
       "      <td>2.99</td>\n",
       "      <td>NaN</td>\n",
       "    </tr>\n",
       "    <tr>\n",
       "      <th>...</th>\n",
       "      <td>...</td>\n",
       "      <td>...</td>\n",
       "      <td>...</td>\n",
       "      <td>...</td>\n",
       "      <td>...</td>\n",
       "      <td>...</td>\n",
       "      <td>...</td>\n",
       "      <td>...</td>\n",
       "    </tr>\n",
       "    <tr>\n",
       "      <th>32126</th>\n",
       "      <td>Ghost_RUS Games</td>\n",
       "      <td>Nikita \"Ghost_RUS\"</td>\n",
       "      <td>['Casual', 'Indie', 'Simulation', 'Strategy']</td>\n",
       "      <td>['Strategy', 'Indie', 'Casual', 'Simulation']</td>\n",
       "      <td>['Single-player', 'Steam Achievements']</td>\n",
       "      <td>NaN</td>\n",
       "      <td>1.99</td>\n",
       "      <td>2018.0</td>\n",
       "    </tr>\n",
       "    <tr>\n",
       "      <th>32127</th>\n",
       "      <td>Sacada</td>\n",
       "      <td>Sacada</td>\n",
       "      <td>['Casual', 'Indie', 'Strategy']</td>\n",
       "      <td>['Strategy', 'Indie', 'Casual']</td>\n",
       "      <td>['Single-player', 'Steam Achievements', 'Steam...</td>\n",
       "      <td>NaN</td>\n",
       "      <td>4.99</td>\n",
       "      <td>2018.0</td>\n",
       "    </tr>\n",
       "    <tr>\n",
       "      <th>32128</th>\n",
       "      <td>Laush Studio</td>\n",
       "      <td>Laush Dmitriy Sergeevich</td>\n",
       "      <td>['Indie', 'Racing', 'Simulation']</td>\n",
       "      <td>['Indie', 'Simulation', 'Racing']</td>\n",
       "      <td>['Single-player', 'Steam Achievements', 'Steam...</td>\n",
       "      <td>NaN</td>\n",
       "      <td>1.99</td>\n",
       "      <td>2018.0</td>\n",
       "    </tr>\n",
       "    <tr>\n",
       "      <th>32129</th>\n",
       "      <td>SIXNAILS</td>\n",
       "      <td>xropi,stev3ns</td>\n",
       "      <td>['Casual', 'Indie']</td>\n",
       "      <td>['Indie', 'Casual', 'Puzzle', 'Singleplayer', ...</td>\n",
       "      <td>['Single-player', 'Steam Achievements', 'Steam...</td>\n",
       "      <td>NaN</td>\n",
       "      <td>4.99</td>\n",
       "      <td>2017.0</td>\n",
       "    </tr>\n",
       "    <tr>\n",
       "      <th>32130</th>\n",
       "      <td>NaN</td>\n",
       "      <td>NaN</td>\n",
       "      <td>NaN</td>\n",
       "      <td>['Early Access', 'Adventure', 'Indie', 'Action...</td>\n",
       "      <td>['Single-player', 'Stats', 'Steam Leaderboards...</td>\n",
       "      <td>NaN</td>\n",
       "      <td>4.99</td>\n",
       "      <td>NaN</td>\n",
       "    </tr>\n",
       "  </tbody>\n",
       "</table>\n",
       "<p>32131 rows × 8 columns</p>\n",
       "</div>"
      ],
      "text/plain": [
       "              publisher                 developer  \\\n",
       "0             Kotoshiro                 Kotoshiro   \n",
       "1      Making Fun, Inc.          Secret Level SRL   \n",
       "2          Poolians.com              Poolians.com   \n",
       "3                  彼岸领域                      彼岸领域   \n",
       "4                   NaN                       NaN   \n",
       "...                 ...                       ...   \n",
       "32126   Ghost_RUS Games        Nikita \"Ghost_RUS\"   \n",
       "32127            Sacada                    Sacada   \n",
       "32128      Laush Studio  Laush Dmitriy Sergeevich   \n",
       "32129          SIXNAILS             xropi,stev3ns   \n",
       "32130               NaN                       NaN   \n",
       "\n",
       "                                                  genres  \\\n",
       "0      ['Action', 'Casual', 'Indie', 'Simulation', 'S...   \n",
       "1           ['Free to Play', 'Indie', 'RPG', 'Strategy']   \n",
       "2      ['Casual', 'Free to Play', 'Indie', 'Simulatio...   \n",
       "3                      ['Action', 'Adventure', 'Casual']   \n",
       "4                                                    NaN   \n",
       "...                                                  ...   \n",
       "32126      ['Casual', 'Indie', 'Simulation', 'Strategy']   \n",
       "32127                    ['Casual', 'Indie', 'Strategy']   \n",
       "32128                  ['Indie', 'Racing', 'Simulation']   \n",
       "32129                                ['Casual', 'Indie']   \n",
       "32130                                                NaN   \n",
       "\n",
       "                                                    tags  \\\n",
       "0      ['Strategy', 'Action', 'Indie', 'Casual', 'Sim...   \n",
       "1      ['Free to Play', 'Strategy', 'Indie', 'RPG', '...   \n",
       "2      ['Free to Play', 'Simulation', 'Sports', 'Casu...   \n",
       "3                      ['Action', 'Adventure', 'Casual']   \n",
       "4                ['Action', 'Indie', 'Casual', 'Sports']   \n",
       "...                                                  ...   \n",
       "32126      ['Strategy', 'Indie', 'Casual', 'Simulation']   \n",
       "32127                    ['Strategy', 'Indie', 'Casual']   \n",
       "32128                  ['Indie', 'Simulation', 'Racing']   \n",
       "32129  ['Indie', 'Casual', 'Puzzle', 'Singleplayer', ...   \n",
       "32130  ['Early Access', 'Adventure', 'Indie', 'Action...   \n",
       "\n",
       "                                                   specs bundles  price  \\\n",
       "0                                      ['Single-player']     NaN   4.99   \n",
       "1      ['Single-player', 'Multi-player', 'Online Mult...     NaN   0.00   \n",
       "2      ['Single-player', 'Multi-player', 'Online Mult...     NaN   0.00   \n",
       "3                                      ['Single-player']     NaN   0.99   \n",
       "4      ['Single-player', 'Full controller support', '...     NaN   2.99   \n",
       "...                                                  ...     ...    ...   \n",
       "32126            ['Single-player', 'Steam Achievements']     NaN   1.99   \n",
       "32127  ['Single-player', 'Steam Achievements', 'Steam...     NaN   4.99   \n",
       "32128  ['Single-player', 'Steam Achievements', 'Steam...     NaN   1.99   \n",
       "32129  ['Single-player', 'Steam Achievements', 'Steam...     NaN   4.99   \n",
       "32130  ['Single-player', 'Stats', 'Steam Leaderboards...     NaN   4.99   \n",
       "\n",
       "       release_year  \n",
       "0            2018.0  \n",
       "1            2018.0  \n",
       "2            2017.0  \n",
       "3            2017.0  \n",
       "4               NaN  \n",
       "...             ...  \n",
       "32126        2018.0  \n",
       "32127        2018.0  \n",
       "32128        2018.0  \n",
       "32129        2017.0  \n",
       "32130           NaN  \n",
       "\n",
       "[32131 rows x 8 columns]"
      ]
     },
     "execution_count": 256,
     "metadata": {},
     "output_type": "execute_result"
    }
   ],
   "source": [
    "games[['publisher', 'developer', 'genres', 'tags', 'specs', 'bundles', 'price', 'release_year']]"
   ]
  },
  {
   "cell_type": "code",
   "execution_count": 19,
   "metadata": {},
   "outputs": [],
   "source": [
    "# price_category: 4\n",
    "# specs: 40\n",
    "# genres: 22\n",
    "# tags: 339\n",
    "# genres + specs: 62(genres and specs are uniquely different)\n",
    "# genres + tags: 342(a lot of tags are in genres)\n",
    "# release_year"
   ]
  },
  {
   "cell_type": "code",
   "execution_count": 180,
   "metadata": {},
   "outputs": [],
   "source": [
    "item_features_cols = ['genres']\n",
    "# ['publisher', 'genres', 'tags', 'specs', 'price', 'developer', 'release_year']"
   ]
  },
  {
   "cell_type": "code",
   "execution_count": 269,
   "metadata": {
    "scrolled": true
   },
   "outputs": [],
   "source": [
    "def build_game_features_list(item_features_cols):\n",
    "    total_features = set()\n",
    "    game_features_list = []\n",
    "    for row in games.itertuples(index=False):\n",
    "        features = set()\n",
    "        for col in item_features_cols:\n",
    "            val = getattr(row, col)\n",
    "            if pd.isnull(val):\n",
    "                continue\n",
    "            if col in {\"genres\", \"tags\", \"specs\", \"bundles\"}:\n",
    "                features.update(literal_eval(val))\n",
    "            else:\n",
    "                features.add(val)\n",
    "        game_features_list.append(list(features))\n",
    "        total_features.update(features)\n",
    "    return game_features_list, list(total_features)"
   ]
  },
  {
   "cell_type": "code",
   "execution_count": 270,
   "metadata": {},
   "outputs": [],
   "source": [
    "game_features_list, total_features = build_game_features_list(item_features_cols)"
   ]
  },
  {
   "cell_type": "code",
   "execution_count": 272,
   "metadata": {},
   "outputs": [
    {
     "name": "stdout",
     "output_type": "stream",
     "text": [
      "210\n"
     ]
    }
   ],
   "source": [
    "print(len(total_features))"
   ]
  },
  {
   "cell_type": "code",
   "execution_count": 273,
   "metadata": {},
   "outputs": [],
   "source": [
    "def getGameFeaturesData(item_features_cols):\n",
    "    game_features_list, total_features = build_game_features_list(item_features_cols)\n",
    "    game_tuple = list(zip(games.id, game_features_list))\n",
    "    return (total_features, game_tuple)"
   ]
  },
  {
   "cell_type": "code",
   "execution_count": 274,
   "metadata": {
    "scrolled": false
   },
   "outputs": [],
   "source": [
    "total_features, game_tuple = getGameFeaturesData(item_features_cols)"
   ]
  },
  {
   "cell_type": "code",
   "execution_count": 275,
   "metadata": {},
   "outputs": [
    {
     "name": "stdout",
     "output_type": "stream",
     "text": [
      "210 [0.0, 0.99, 2.99, 3.99, 4.99, 1.59, 1.99, 6.99, 8.99, 9.99, 10.99, 7.99, 7.49, 12.99, 14.99, 15.99, 13.99, 17.99, 18.99, 19.99, 14.95, 'Software Training', 16.99, 21.99, 24.99, 23.99, 5.0, 20.99, 4.0, 29.99, 29.96, 1.25, 32.99, 0.5, 34.99, 1.5, 36.99, 31.99, 38.85, 39.99, 40.0, 7.0, 'Accounting', 42.99, 'Indie', 44.99, 9.0, 44.98, 41.99, 49.99, 49.0, 'Early Access', 10.93, 10.96, 54.99, 10.0, 2.0, 59.99, 59.95, 61.99, 12.89, 'Audio Production', 64.99, 12.0, 69.99, 1.29, 71.7, 74.76, 74.99, 15.0, 79.99, 'Adventure', 3.0, 'Utilities', 4.29, 'Action', 87.94, 89.99, 599.0, 18.9, 19.29, 'Strategy', 99.99, 99.0, 20.0, 'Sports', 2.97, 109.99, 23.96, 119.99, 124.99, 129.99, 131.4, 'Photo Editing', 139.92, 'Education', 3.33, 'Casual', 149.99, 30.0, 'Video Production', 5.65, 6.0, 1.0, 160.91, 'Design &amp; Illustration', 172.24, 9.69, 179.0, 11.15, 189.0, 189.96, 13.37, 1.87, 199.0, 199.99, 202.76, 2.3, 0.98, 234.99, 249.99, 0.89, 771.71, 2.66, 'Simulation', 'Free to Play', 6.66, 6.48, 289.99, 8.98, 299.99, 4.68, 9.98, 9.95, 0.95, 1.95, 320.0, 13.98, 'RPG', 'Web Publishing', 'Racing', 16.06, 19.95, 19.98, 22.99, 0.49, 1.49, 26.99, 27.99, 27.49, 2.49, 399.99, 3.49, 399.0, 4.49, 5.99, 5.49, 6.49, 1970.0, 10.49, 1975.0, 11.99, 1980.0, 1981.0, 1982.0, 1983.0, 1984.0, 1985.0, 1986.0, 1987.0, 1988.0, 1989.0, 1990.0, 1991.0, 1992.0, 1993.0, 1994.0, 1995.0, 1996.0, 1997.0, 1998.0, 1999.0, 2000.0, 2001.0, 2002.0, 2003.0, 2004.0, 2005.0, 1.39, 2006.0, 2007.0, 2008.0, 2009.0, 2010.0, 2011.0, 2012.0, 2013.0, 2014.0, 2015.0, 2016.0, 2017.0, 2018.0, 'Animation &amp; Modeling', 995.0, 'Massively Multiplayer', 2021.0, 2019.0, 2.89, 3.39, 499.99]\n"
     ]
    }
   ],
   "source": [
    "print(len(total_features), total_features)"
   ]
  },
  {
   "cell_type": "markdown",
   "metadata": {},
   "source": [
    "## Building lightFM model"
   ]
  },
  {
   "cell_type": "markdown",
   "metadata": {},
   "source": [
    "### 1. Building dataset, interactions matrix and raw/internal id mapping"
   ]
  },
  {
   "cell_type": "markdown",
   "metadata": {},
   "source": [
    "dataset1 - pure CF dataset, dataset2 - Hybrid, add item features, need to rebuild dataset2 if selected feature changes"
   ]
  },
  {
   "cell_type": "markdown",
   "metadata": {},
   "source": [
    "**PureCF(Only Collaborative Filtering)**"
   ]
  },
  {
   "cell_type": "markdown",
   "metadata": {},
   "source": [
    "- build dataset"
   ]
  },
  {
   "cell_type": "code",
   "execution_count": 28,
   "metadata": {},
   "outputs": [],
   "source": [
    "dataset1 = Dataset()\n",
    "dataset1.fit(user_item_df['steam_id'].unique(), # all the steam users\n",
    "            all_games[\"item_id\"],)"
   ]
  },
  {
   "cell_type": "markdown",
   "metadata": {},
   "source": [
    "- build interaction matrix"
   ]
  },
  {
   "cell_type": "code",
   "execution_count": 30,
   "metadata": {},
   "outputs": [],
   "source": [
    "# add weight with ratings\n",
    "(interactions1, weights1) = dataset1.build_interactions([(x[0], x[1]) for x in user_item_df.values])"
   ]
  },
  {
   "cell_type": "code",
   "execution_count": 31,
   "metadata": {},
   "outputs": [
    {
     "data": {
      "text/plain": [
       "(68403, 33917)"
      ]
     },
     "execution_count": 31,
     "metadata": {},
     "output_type": "execute_result"
    }
   ],
   "source": [
    "# (68403, 33917) for user and item\n",
    "interactions1.shape"
   ]
  },
  {
   "cell_type": "markdown",
   "metadata": {},
   "source": [
    "**Hybrid(Collaborative Filtering with item features)**"
   ]
  },
  {
   "cell_type": "markdown",
   "metadata": {},
   "source": [
    "- select features and generate features data"
   ]
  },
  {
   "cell_type": "code",
   "execution_count": 276,
   "metadata": {},
   "outputs": [],
   "source": [
    "item_features_cols = ['genres', 'price', 'release_year']\n",
    "# feature combine #1: 'genres', 'price', 'release_year'\n",
    "# ['publisher', 'genres', 'tags', 'specs', 'price', 'developer', 'release_year']"
   ]
  },
  {
   "cell_type": "code",
   "execution_count": 277,
   "metadata": {
    "scrolled": false
   },
   "outputs": [],
   "source": [
    "total_features, game_tuple = getGameFeaturesData(item_features_cols)"
   ]
  },
  {
   "cell_type": "code",
   "execution_count": 300,
   "metadata": {},
   "outputs": [
    {
     "data": {
      "text/plain": [
       "210"
      ]
     },
     "execution_count": 300,
     "metadata": {},
     "output_type": "execute_result"
    }
   ],
   "source": [
    "len(total_features)"
   ]
  },
  {
   "cell_type": "markdown",
   "metadata": {},
   "source": [
    "- build dataset"
   ]
  },
  {
   "cell_type": "code",
   "execution_count": 278,
   "metadata": {},
   "outputs": [],
   "source": [
    "dataset2 = Dataset()\n",
    "dataset2.fit(user_item_df['steam_id'].unique(), # all the steam users\n",
    "            all_games[\"item_id\"], # all steam games\n",
    "            item_features=total_features)"
   ]
  },
  {
   "cell_type": "markdown",
   "metadata": {},
   "source": [
    "- build interaction matrix"
   ]
  },
  {
   "cell_type": "code",
   "execution_count": 279,
   "metadata": {},
   "outputs": [],
   "source": [
    "(interactions2, weights2) = dataset2.build_interactions([(x[0], x[1]) for x in user_item_df.values])"
   ]
  },
  {
   "cell_type": "code",
   "execution_count": 280,
   "metadata": {
    "scrolled": true
   },
   "outputs": [
    {
     "data": {
      "text/plain": [
       "(68403, 33917)"
      ]
     },
     "execution_count": 280,
     "metadata": {},
     "output_type": "execute_result"
    }
   ],
   "source": [
    "interactions2.shape"
   ]
  },
  {
   "cell_type": "markdown",
   "metadata": {},
   "source": [
    "- build item features"
   ]
  },
  {
   "cell_type": "code",
   "execution_count": 281,
   "metadata": {},
   "outputs": [
    {
     "data": {
      "text/plain": [
       "(33917, 34122)"
      ]
     },
     "execution_count": 281,
     "metadata": {},
     "output_type": "execute_result"
    }
   ],
   "source": [
    "item_features = dataset2.build_item_features(game_tuple, normalize= False)\n",
    "item_features.todense().shape"
   ]
  },
  {
   "cell_type": "code",
   "execution_count": 282,
   "metadata": {
    "scrolled": true
   },
   "outputs": [
    {
     "data": {
      "text/plain": [
       "(33917, 33917)"
      ]
     },
     "execution_count": 282,
     "metadata": {},
     "output_type": "execute_result"
    }
   ],
   "source": [
    "dataset1.item_features_shape()"
   ]
  },
  {
   "cell_type": "code",
   "execution_count": 283,
   "metadata": {
    "scrolled": true
   },
   "outputs": [
    {
     "data": {
      "text/plain": [
       "(33917, 34122)"
      ]
     },
     "execution_count": 283,
     "metadata": {},
     "output_type": "execute_result"
    }
   ],
   "source": [
    "dataset2.item_features_shape()"
   ]
  },
  {
   "cell_type": "markdown",
   "metadata": {},
   "source": [
    "- normalized with feature\n",
    "- build dataset"
   ]
  },
  {
   "cell_type": "code",
   "execution_count": 284,
   "metadata": {},
   "outputs": [],
   "source": [
    "dataset3 = Dataset()\n",
    "dataset3.fit(user_item_df['steam_id'].unique(), # all the steam users\n",
    "            all_games[\"item_id\"], # all steam games\n",
    "            item_features=total_features)"
   ]
  },
  {
   "cell_type": "markdown",
   "metadata": {},
   "source": [
    "- build interaction matrix"
   ]
  },
  {
   "cell_type": "code",
   "execution_count": 285,
   "metadata": {},
   "outputs": [],
   "source": [
    "(interactions3, weights3) = dataset3.build_interactions([(x[0], x[1]) for x in user_item_df.values])"
   ]
  },
  {
   "cell_type": "code",
   "execution_count": 286,
   "metadata": {
    "scrolled": true
   },
   "outputs": [
    {
     "data": {
      "text/plain": [
       "(68403, 33917)"
      ]
     },
     "execution_count": 286,
     "metadata": {},
     "output_type": "execute_result"
    }
   ],
   "source": [
    "interactions3.shape"
   ]
  },
  {
   "cell_type": "markdown",
   "metadata": {},
   "source": [
    "- build item features"
   ]
  },
  {
   "cell_type": "code",
   "execution_count": 287,
   "metadata": {},
   "outputs": [
    {
     "data": {
      "text/plain": [
       "(33917, 34122)"
      ]
     },
     "execution_count": 287,
     "metadata": {},
     "output_type": "execute_result"
    }
   ],
   "source": [
    "item_features2 = dataset3.build_item_features(game_tuple, normalize= True)\n",
    "item_features2.todense().shape"
   ]
  },
  {
   "cell_type": "code",
   "execution_count": 288,
   "metadata": {
    "scrolled": true
   },
   "outputs": [
    {
     "data": {
      "text/plain": [
       "(33917, 34122)"
      ]
     },
     "execution_count": 288,
     "metadata": {},
     "output_type": "execute_result"
    }
   ],
   "source": [
    "dataset3.item_features_shape()"
   ]
  },
  {
   "cell_type": "code",
   "execution_count": 289,
   "metadata": {
    "scrolled": true
   },
   "outputs": [
    {
     "data": {
      "text/plain": [
       "(33917, 33917)"
      ]
     },
     "execution_count": 289,
     "metadata": {},
     "output_type": "execute_result"
    }
   ],
   "source": [
    "dataset1.item_features_shape()"
   ]
  },
  {
   "cell_type": "markdown",
   "metadata": {},
   "source": [
    "### 2. Train Test Split"
   ]
  },
  {
   "cell_type": "markdown",
   "metadata": {},
   "source": [
    "- PureCF"
   ]
  },
  {
   "cell_type": "code",
   "execution_count": 36,
   "metadata": {},
   "outputs": [],
   "source": [
    "train_interactions1, test_interactions1 = random_train_test_split(interactions1, test_percentage=0.2, random_state=np.random.RandomState(3))\n",
    "train_weights1, test_weights1 = random_train_test_split(weights1, test_percentage=0.2, random_state=np.random.RandomState(3))"
   ]
  },
  {
   "cell_type": "markdown",
   "metadata": {},
   "source": [
    "- Hybrid"
   ]
  },
  {
   "cell_type": "code",
   "execution_count": 195,
   "metadata": {},
   "outputs": [],
   "source": [
    "train_interactions2, test_interactions2 = random_train_test_split(interactions2, test_percentage=0.2, random_state=np.random.RandomState(3))\n",
    "train_weights2, test_weights2 = random_train_test_split(weights2, test_percentage=0.2, random_state=np.random.RandomState(3))"
   ]
  },
  {
   "cell_type": "code",
   "execution_count": 297,
   "metadata": {},
   "outputs": [],
   "source": [
    "train_interactions3, test_interactions3 = random_train_test_split(interactions3, test_percentage=0.2, random_state=np.random.RandomState(3))\n",
    "train_weights3, test_weights3 = random_train_test_split(weights3, test_percentage=0.2, random_state=np.random.RandomState(3))"
   ]
  },
  {
   "cell_type": "markdown",
   "metadata": {},
   "source": [
    "### 3. Build, fit and evaluate model in Hyperparameter Search"
   ]
  },
  {
   "cell_type": "markdown",
   "metadata": {},
   "source": [
    "- Hyperparameter Search code is adapted from https://github.com/bcc008/ucsd-dse-capstone-c4g4/blob/master/notebooks/hyperparameter_search.ipynb\n",
    "- Save all hyperparameter search results into csv for later comparision"
   ]
  },
  {
   "cell_type": "code",
   "execution_count": 158,
   "metadata": {},
   "outputs": [],
   "source": [
    "# read hyperparameter search csv\n",
    "if path.exists('lightfm_param_search.csv'):\n",
    "   param_search_df = pd.read_csv('lightfm_param_search.csv')\n",
    "else:\n",
    "   param_search_df = pd.DataFrame()"
   ]
  },
  {
   "cell_type": "code",
   "execution_count": 204,
   "metadata": {},
   "outputs": [
    {
     "data": {
      "text/html": [
       "<div>\n",
       "<style scoped>\n",
       "    .dataframe tbody tr th:only-of-type {\n",
       "        vertical-align: middle;\n",
       "    }\n",
       "\n",
       "    .dataframe tbody tr th {\n",
       "        vertical-align: top;\n",
       "    }\n",
       "\n",
       "    .dataframe thead th {\n",
       "        text-align: right;\n",
       "    }\n",
       "</style>\n",
       "<table border=\"1\" class=\"dataframe\">\n",
       "  <thead>\n",
       "    <tr style=\"text-align: right;\">\n",
       "      <th></th>\n",
       "      <th>@K</th>\n",
       "      <th>MAP_test</th>\n",
       "      <th>MAP_train</th>\n",
       "      <th>auc_test</th>\n",
       "      <th>auc_train</th>\n",
       "      <th>epochs</th>\n",
       "      <th>epsilon</th>\n",
       "      <th>item_alpha</th>\n",
       "      <th>k</th>\n",
       "      <th>learning_rate</th>\n",
       "      <th>learning_schedule</th>\n",
       "      <th>loss</th>\n",
       "      <th>max_sampled</th>\n",
       "      <th>model_name</th>\n",
       "      <th>n</th>\n",
       "      <th>no_components</th>\n",
       "      <th>random_state</th>\n",
       "      <th>rho</th>\n",
       "      <th>time</th>\n",
       "      <th>user_alpha</th>\n",
       "    </tr>\n",
       "  </thead>\n",
       "  <tbody>\n",
       "    <tr>\n",
       "      <th>0</th>\n",
       "      <td>20.0</td>\n",
       "      <td>0.072371</td>\n",
       "      <td>0.296986</td>\n",
       "      <td>0.878090</td>\n",
       "      <td>0.905723</td>\n",
       "      <td>5.0</td>\n",
       "      <td>0.000001</td>\n",
       "      <td>0.0</td>\n",
       "      <td>5.0</td>\n",
       "      <td>0.05</td>\n",
       "      <td>adagrad</td>\n",
       "      <td>bpr</td>\n",
       "      <td>10.0</td>\n",
       "      <td>PureCF</td>\n",
       "      <td>10.0</td>\n",
       "      <td>5.0</td>\n",
       "      <td>RandomState(MT19937)</td>\n",
       "      <td>0.95</td>\n",
       "      <td>292.130097</td>\n",
       "      <td>0.0</td>\n",
       "    </tr>\n",
       "    <tr>\n",
       "      <th>1</th>\n",
       "      <td>20.0</td>\n",
       "      <td>0.080496</td>\n",
       "      <td>0.291714</td>\n",
       "      <td>0.990084</td>\n",
       "      <td>0.991896</td>\n",
       "      <td>5.0</td>\n",
       "      <td>0.000001</td>\n",
       "      <td>0.0</td>\n",
       "      <td>5.0</td>\n",
       "      <td>0.05</td>\n",
       "      <td>adagrad</td>\n",
       "      <td>warp</td>\n",
       "      <td>10.0</td>\n",
       "      <td>PureCF</td>\n",
       "      <td>10.0</td>\n",
       "      <td>5.0</td>\n",
       "      <td>RandomState(MT19937)</td>\n",
       "      <td>0.95</td>\n",
       "      <td>281.964475</td>\n",
       "      <td>0.0</td>\n",
       "    </tr>\n",
       "    <tr>\n",
       "      <th>2</th>\n",
       "      <td>20.0</td>\n",
       "      <td>0.066677</td>\n",
       "      <td>0.316345</td>\n",
       "      <td>0.877836</td>\n",
       "      <td>0.917226</td>\n",
       "      <td>5.0</td>\n",
       "      <td>0.000001</td>\n",
       "      <td>0.0</td>\n",
       "      <td>5.0</td>\n",
       "      <td>0.05</td>\n",
       "      <td>adagrad</td>\n",
       "      <td>bpr</td>\n",
       "      <td>10.0</td>\n",
       "      <td>PureCF</td>\n",
       "      <td>10.0</td>\n",
       "      <td>10.0</td>\n",
       "      <td>RandomState(MT19937)</td>\n",
       "      <td>0.95</td>\n",
       "      <td>380.377757</td>\n",
       "      <td>0.0</td>\n",
       "    </tr>\n",
       "    <tr>\n",
       "      <th>3</th>\n",
       "      <td>20.0</td>\n",
       "      <td>0.081573</td>\n",
       "      <td>0.297219</td>\n",
       "      <td>0.990511</td>\n",
       "      <td>0.992755</td>\n",
       "      <td>5.0</td>\n",
       "      <td>0.000001</td>\n",
       "      <td>0.0</td>\n",
       "      <td>5.0</td>\n",
       "      <td>0.05</td>\n",
       "      <td>adagrad</td>\n",
       "      <td>warp</td>\n",
       "      <td>10.0</td>\n",
       "      <td>PureCF</td>\n",
       "      <td>10.0</td>\n",
       "      <td>10.0</td>\n",
       "      <td>RandomState(MT19937)</td>\n",
       "      <td>0.95</td>\n",
       "      <td>360.961698</td>\n",
       "      <td>0.0</td>\n",
       "    </tr>\n",
       "    <tr>\n",
       "      <th>4</th>\n",
       "      <td>20.0</td>\n",
       "      <td>0.064585</td>\n",
       "      <td>0.329687</td>\n",
       "      <td>0.875677</td>\n",
       "      <td>0.921658</td>\n",
       "      <td>5.0</td>\n",
       "      <td>0.000001</td>\n",
       "      <td>0.0</td>\n",
       "      <td>5.0</td>\n",
       "      <td>0.05</td>\n",
       "      <td>adagrad</td>\n",
       "      <td>bpr</td>\n",
       "      <td>10.0</td>\n",
       "      <td>PureCF</td>\n",
       "      <td>10.0</td>\n",
       "      <td>15.0</td>\n",
       "      <td>RandomState(MT19937)</td>\n",
       "      <td>0.95</td>\n",
       "      <td>1953.422823</td>\n",
       "      <td>0.0</td>\n",
       "    </tr>\n",
       "    <tr>\n",
       "      <th>5</th>\n",
       "      <td>20.0</td>\n",
       "      <td>0.083727</td>\n",
       "      <td>0.307076</td>\n",
       "      <td>0.990871</td>\n",
       "      <td>0.993375</td>\n",
       "      <td>5.0</td>\n",
       "      <td>0.000001</td>\n",
       "      <td>0.0</td>\n",
       "      <td>5.0</td>\n",
       "      <td>0.05</td>\n",
       "      <td>adagrad</td>\n",
       "      <td>warp</td>\n",
       "      <td>10.0</td>\n",
       "      <td>PureCF</td>\n",
       "      <td>10.0</td>\n",
       "      <td>15.0</td>\n",
       "      <td>RandomState(MT19937)</td>\n",
       "      <td>0.95</td>\n",
       "      <td>378.786015</td>\n",
       "      <td>0.0</td>\n",
       "    </tr>\n",
       "    <tr>\n",
       "      <th>6</th>\n",
       "      <td>20.0</td>\n",
       "      <td>0.062505</td>\n",
       "      <td>0.337950</td>\n",
       "      <td>0.873299</td>\n",
       "      <td>0.926864</td>\n",
       "      <td>5.0</td>\n",
       "      <td>0.000001</td>\n",
       "      <td>0.0</td>\n",
       "      <td>5.0</td>\n",
       "      <td>0.05</td>\n",
       "      <td>adagrad</td>\n",
       "      <td>bpr</td>\n",
       "      <td>10.0</td>\n",
       "      <td>PureCF</td>\n",
       "      <td>10.0</td>\n",
       "      <td>20.0</td>\n",
       "      <td>RandomState(MT19937)</td>\n",
       "      <td>0.95</td>\n",
       "      <td>478.389595</td>\n",
       "      <td>0.0</td>\n",
       "    </tr>\n",
       "    <tr>\n",
       "      <th>7</th>\n",
       "      <td>20.0</td>\n",
       "      <td>0.084045</td>\n",
       "      <td>0.310019</td>\n",
       "      <td>0.990984</td>\n",
       "      <td>0.993725</td>\n",
       "      <td>5.0</td>\n",
       "      <td>0.000001</td>\n",
       "      <td>0.0</td>\n",
       "      <td>5.0</td>\n",
       "      <td>0.05</td>\n",
       "      <td>adagrad</td>\n",
       "      <td>warp</td>\n",
       "      <td>10.0</td>\n",
       "      <td>PureCF</td>\n",
       "      <td>10.0</td>\n",
       "      <td>20.0</td>\n",
       "      <td>RandomState(MT19937)</td>\n",
       "      <td>0.95</td>\n",
       "      <td>491.066578</td>\n",
       "      <td>0.0</td>\n",
       "    </tr>\n",
       "    <tr>\n",
       "      <th>8</th>\n",
       "      <td>20.0</td>\n",
       "      <td>0.060892</td>\n",
       "      <td>0.346628</td>\n",
       "      <td>0.866896</td>\n",
       "      <td>0.929252</td>\n",
       "      <td>5.0</td>\n",
       "      <td>0.000001</td>\n",
       "      <td>0.0</td>\n",
       "      <td>5.0</td>\n",
       "      <td>0.05</td>\n",
       "      <td>adagrad</td>\n",
       "      <td>bpr</td>\n",
       "      <td>10.0</td>\n",
       "      <td>PureCF</td>\n",
       "      <td>10.0</td>\n",
       "      <td>25.0</td>\n",
       "      <td>RandomState(MT19937)</td>\n",
       "      <td>0.95</td>\n",
       "      <td>586.683666</td>\n",
       "      <td>0.0</td>\n",
       "    </tr>\n",
       "    <tr>\n",
       "      <th>9</th>\n",
       "      <td>20.0</td>\n",
       "      <td>0.084643</td>\n",
       "      <td>0.313776</td>\n",
       "      <td>0.991106</td>\n",
       "      <td>0.994108</td>\n",
       "      <td>5.0</td>\n",
       "      <td>0.000001</td>\n",
       "      <td>0.0</td>\n",
       "      <td>5.0</td>\n",
       "      <td>0.05</td>\n",
       "      <td>adagrad</td>\n",
       "      <td>warp</td>\n",
       "      <td>10.0</td>\n",
       "      <td>PureCF</td>\n",
       "      <td>10.0</td>\n",
       "      <td>25.0</td>\n",
       "      <td>RandomState(MT19937)</td>\n",
       "      <td>0.95</td>\n",
       "      <td>584.724471</td>\n",
       "      <td>0.0</td>\n",
       "    </tr>\n",
       "    <tr>\n",
       "      <th>10</th>\n",
       "      <td>20.0</td>\n",
       "      <td>0.059042</td>\n",
       "      <td>0.352837</td>\n",
       "      <td>0.863437</td>\n",
       "      <td>0.932556</td>\n",
       "      <td>5.0</td>\n",
       "      <td>0.000001</td>\n",
       "      <td>0.0</td>\n",
       "      <td>5.0</td>\n",
       "      <td>0.05</td>\n",
       "      <td>adagrad</td>\n",
       "      <td>bpr</td>\n",
       "      <td>10.0</td>\n",
       "      <td>PureCF</td>\n",
       "      <td>10.0</td>\n",
       "      <td>30.0</td>\n",
       "      <td>RandomState(MT19937)</td>\n",
       "      <td>0.95</td>\n",
       "      <td>646.185900</td>\n",
       "      <td>0.0</td>\n",
       "    </tr>\n",
       "    <tr>\n",
       "      <th>11</th>\n",
       "      <td>20.0</td>\n",
       "      <td>0.084210</td>\n",
       "      <td>0.313183</td>\n",
       "      <td>0.991049</td>\n",
       "      <td>0.994114</td>\n",
       "      <td>5.0</td>\n",
       "      <td>0.000001</td>\n",
       "      <td>0.0</td>\n",
       "      <td>5.0</td>\n",
       "      <td>0.05</td>\n",
       "      <td>adagrad</td>\n",
       "      <td>warp</td>\n",
       "      <td>10.0</td>\n",
       "      <td>PureCF</td>\n",
       "      <td>10.0</td>\n",
       "      <td>30.0</td>\n",
       "      <td>RandomState(MT19937)</td>\n",
       "      <td>0.95</td>\n",
       "      <td>650.884106</td>\n",
       "      <td>0.0</td>\n",
       "    </tr>\n",
       "  </tbody>\n",
       "</table>\n",
       "</div>"
      ],
      "text/plain": [
       "      @K  MAP_test  MAP_train  auc_test  auc_train  epochs   epsilon  \\\n",
       "0   20.0  0.072371   0.296986  0.878090   0.905723     5.0  0.000001   \n",
       "1   20.0  0.080496   0.291714  0.990084   0.991896     5.0  0.000001   \n",
       "2   20.0  0.066677   0.316345  0.877836   0.917226     5.0  0.000001   \n",
       "3   20.0  0.081573   0.297219  0.990511   0.992755     5.0  0.000001   \n",
       "4   20.0  0.064585   0.329687  0.875677   0.921658     5.0  0.000001   \n",
       "5   20.0  0.083727   0.307076  0.990871   0.993375     5.0  0.000001   \n",
       "6   20.0  0.062505   0.337950  0.873299   0.926864     5.0  0.000001   \n",
       "7   20.0  0.084045   0.310019  0.990984   0.993725     5.0  0.000001   \n",
       "8   20.0  0.060892   0.346628  0.866896   0.929252     5.0  0.000001   \n",
       "9   20.0  0.084643   0.313776  0.991106   0.994108     5.0  0.000001   \n",
       "10  20.0  0.059042   0.352837  0.863437   0.932556     5.0  0.000001   \n",
       "11  20.0  0.084210   0.313183  0.991049   0.994114     5.0  0.000001   \n",
       "\n",
       "    item_alpha    k  learning_rate learning_schedule  loss  max_sampled  \\\n",
       "0          0.0  5.0           0.05           adagrad   bpr         10.0   \n",
       "1          0.0  5.0           0.05           adagrad  warp         10.0   \n",
       "2          0.0  5.0           0.05           adagrad   bpr         10.0   \n",
       "3          0.0  5.0           0.05           adagrad  warp         10.0   \n",
       "4          0.0  5.0           0.05           adagrad   bpr         10.0   \n",
       "5          0.0  5.0           0.05           adagrad  warp         10.0   \n",
       "6          0.0  5.0           0.05           adagrad   bpr         10.0   \n",
       "7          0.0  5.0           0.05           adagrad  warp         10.0   \n",
       "8          0.0  5.0           0.05           adagrad   bpr         10.0   \n",
       "9          0.0  5.0           0.05           adagrad  warp         10.0   \n",
       "10         0.0  5.0           0.05           adagrad   bpr         10.0   \n",
       "11         0.0  5.0           0.05           adagrad  warp         10.0   \n",
       "\n",
       "   model_name     n  no_components          random_state   rho         time  \\\n",
       "0      PureCF  10.0            5.0  RandomState(MT19937)  0.95   292.130097   \n",
       "1      PureCF  10.0            5.0  RandomState(MT19937)  0.95   281.964475   \n",
       "2      PureCF  10.0           10.0  RandomState(MT19937)  0.95   380.377757   \n",
       "3      PureCF  10.0           10.0  RandomState(MT19937)  0.95   360.961698   \n",
       "4      PureCF  10.0           15.0  RandomState(MT19937)  0.95  1953.422823   \n",
       "5      PureCF  10.0           15.0  RandomState(MT19937)  0.95   378.786015   \n",
       "6      PureCF  10.0           20.0  RandomState(MT19937)  0.95   478.389595   \n",
       "7      PureCF  10.0           20.0  RandomState(MT19937)  0.95   491.066578   \n",
       "8      PureCF  10.0           25.0  RandomState(MT19937)  0.95   586.683666   \n",
       "9      PureCF  10.0           25.0  RandomState(MT19937)  0.95   584.724471   \n",
       "10     PureCF  10.0           30.0  RandomState(MT19937)  0.95   646.185900   \n",
       "11     PureCF  10.0           30.0  RandomState(MT19937)  0.95   650.884106   \n",
       "\n",
       "    user_alpha  \n",
       "0          0.0  \n",
       "1          0.0  \n",
       "2          0.0  \n",
       "3          0.0  \n",
       "4          0.0  \n",
       "5          0.0  \n",
       "6          0.0  \n",
       "7          0.0  \n",
       "8          0.0  \n",
       "9          0.0  \n",
       "10         0.0  \n",
       "11         0.0  "
      ]
     },
     "execution_count": 204,
     "metadata": {},
     "output_type": "execute_result"
    }
   ],
   "source": [
    "param_search_df"
   ]
  },
  {
   "cell_type": "code",
   "execution_count": 322,
   "metadata": {},
   "outputs": [],
   "source": [
    "possible_parameters =    {\n",
    "                        'no_components': np.arange(35, 65, 5),\n",
    "#                         'no_components': [20,30,40,50,60,70,80],\n",
    "#                         'learning_schedule': ['adagrad','adadelta'],\n",
    "                        'loss': ['warp'],\n",
    "#                         'loss': ['bpr','warp'],\n",
    "#                         'learning_rate': [0.05,0.01,0.005,0.001],\n",
    "#                         'rho': [0.99,0.97,0.95,0.92,0.90,0.87,0.85,0.82,0.80],\n",
    "#                         'epsilon': [1e-3,1e-04,1e-05,1e-06,1e-07],\n",
    "#                         'item_alpha': [0.1,0.05,0.01,0.005,0.001,0.0005,0.0001],\n",
    "#                         'user_alpha': [0.1,0.05,0.01,0.005,0.001,0.0005,0.0001],\n",
    "                        'random_state': [1]\n",
    "                        }"
   ]
  },
  {
   "cell_type": "code",
   "execution_count": 323,
   "metadata": {},
   "outputs": [
    {
     "data": {
      "text/plain": [
       "[{'no_components': 35, 'loss': 'warp', 'random_state': 1},\n",
       " {'no_components': 40, 'loss': 'warp', 'random_state': 1},\n",
       " {'no_components': 45, 'loss': 'warp', 'random_state': 1},\n",
       " {'no_components': 50, 'loss': 'warp', 'random_state': 1},\n",
       " {'no_components': 55, 'loss': 'warp', 'random_state': 1},\n",
       " {'no_components': 60, 'loss': 'warp', 'random_state': 1}]"
      ]
     },
     "execution_count": 323,
     "metadata": {},
     "output_type": "execute_result"
    }
   ],
   "source": [
    "parameter_combinations = [dict(zip(possible_parameters.keys(), values)) \\\n",
    "                              for values in product(*possible_parameters.values())]\n",
    "parameter_combinations"
   ]
  },
  {
   "cell_type": "code",
   "execution_count": 160,
   "metadata": {},
   "outputs": [],
   "source": [
    "def hyperparameter_search(model_name, parameter_combinations, train_interactions, test_interactions, item_features=None, k=20, epochs=5, num_threads=2, verbose=False):\n",
    "    for parameters in parameter_combinations:\n",
    "        start_time = time.time()\n",
    "        model = LightFM(**parameters)\n",
    "        model.fit(train_interactions, \n",
    "                  item_features=item_features,\n",
    "                  epochs=epochs,\n",
    "                  num_threads=num_threads)\n",
    "        auc_train = auc_score(model, train_interactions, item_features=item_features, num_threads=num_threads).mean()\n",
    "        auc_test = auc_score(model, test_interactions, item_features=item_features, num_threads=num_threads).mean()\n",
    "        precision_train = precision_at_k(model, train_interactions, item_features=item_features, k=k, num_threads=num_threads).mean()\n",
    "        precision_test = precision_at_k(model, test_interactions, item_features=item_features, k=k, num_threads=num_threads).mean()\n",
    "        params = model.get_params()\n",
    "        params['model_name'] = model_name\n",
    "        params['auc_train'] = auc_train\n",
    "        params['auc_test'] = auc_test\n",
    "        params['@K'] = k\n",
    "        params['MAP_train'] = precision_train\n",
    "        params['MAP_test'] = precision_test\n",
    "        params['epochs'] = epochs\n",
    "        params['time'] = time.time() - start_time\n",
    "        global param_search_df\n",
    "        param_search_df = param_search_df.append(params, ignore_index=True)\n",
    "        if verbose==True:\n",
    "            print('Training complete for one set of parameters. Time taken: {}'.format(params['time']))"
   ]
  },
  {
   "cell_type": "markdown",
   "metadata": {},
   "source": [
    "- PureCF"
   ]
  },
  {
   "cell_type": "code",
   "execution_count": 161,
   "metadata": {
    "scrolled": false
   },
   "outputs": [
    {
     "name": "stdout",
     "output_type": "stream",
     "text": [
      "Training complete for one set of parameters. Time taken: 292.13009667396545\n",
      "Training complete for one set of parameters. Time taken: 281.96447491645813\n",
      "Training complete for one set of parameters. Time taken: 380.37775707244873\n",
      "Training complete for one set of parameters. Time taken: 360.96169805526733\n",
      "Training complete for one set of parameters. Time taken: 1953.4228229522705\n",
      "Training complete for one set of parameters. Time taken: 378.7860150337219\n",
      "Training complete for one set of parameters. Time taken: 478.3895950317383\n",
      "Training complete for one set of parameters. Time taken: 491.06657791137695\n",
      "Training complete for one set of parameters. Time taken: 586.6836659908295\n",
      "Training complete for one set of parameters. Time taken: 584.7244710922241\n",
      "Training complete for one set of parameters. Time taken: 646.1858999729156\n",
      "Training complete for one set of parameters. Time taken: 650.8841059207916\n"
     ]
    }
   ],
   "source": [
    "hyperparameter_search(\"PureCF\", parameter_combinations, train_interactions1, test_interactions1, verbose=True)"
   ]
  },
  {
   "cell_type": "code",
   "execution_count": 205,
   "metadata": {},
   "outputs": [],
   "source": [
    "param_search_df.to_csv(\"lightfm_param_search.csv\")"
   ]
  },
  {
   "cell_type": "code",
   "execution_count": 178,
   "metadata": {},
   "outputs": [
    {
     "data": {
      "image/png": "[encoded data removed]",
      "text/plain": [
       "<Figure size 432x288 with 1 Axes>"
      ]
     },
     "metadata": {
      "needs_background": "light"
     },
     "output_type": "display_data"
    }
   ],
   "source": [
    "x1 = param_search_df[param_search_df.loss==\"warp\"].no_components\n",
    "y1 = param_search_df[param_search_df.loss==\"warp\"].auc_train\n",
    "plt.plot(x1, y1, label = \"warp_auc_train\")\n",
    "x2 = param_search_df[param_search_df.loss==\"warp\"].no_components\n",
    "y2 = param_search_df[param_search_df.loss==\"warp\"].auc_test\n",
    "plt.plot(x2, y2, label = \"warp_auc_test\")\n",
    "plt.legend()\n",
    "plt.show()"
   ]
  },
  {
   "cell_type": "markdown",
   "metadata": {},
   "source": [
    "no_components = 25 is best for warp"
   ]
  },
  {
   "cell_type": "code",
   "execution_count": 179,
   "metadata": {
    "scrolled": true
   },
   "outputs": [
    {
     "data": {
      "text/plain": [
       "[<matplotlib.lines.Line2D at 0x7faf31407df0>]"
      ]
     },
     "execution_count": 179,
     "metadata": {},
     "output_type": "execute_result"
    },
    {
     "data": {
      "image/png": "[encoded data removed]",
      "text/plain": [
       "<Figure size 432x288 with 1 Axes>"
      ]
     },
     "metadata": {
      "needs_background": "light"
     },
     "output_type": "display_data"
    }
   ],
   "source": [
    "x3 = param_search_df[param_search_df.loss==\"bpr\"].no_components\n",
    "y3 = param_search_df[param_search_df.loss==\"bpr\"].auc_train\n",
    "plt.plot(x3, y3, label = \"bpr_auc_train\")\n",
    "x4 = param_search_df[param_search_df.loss==\"bpr\"].no_components\n",
    "y4 = param_search_df[param_search_df.loss==\"bpr\"].auc_test\n",
    "plt.plot(x4, y4, label = \"bpr_auc_test\")"
   ]
  },
  {
   "cell_type": "markdown",
   "metadata": {},
   "source": [
    "no_components = 5 is best for bpr"
   ]
  },
  {
   "cell_type": "markdown",
   "metadata": {},
   "source": [
    "Generally warp is better than bpr for test result."
   ]
  },
  {
   "cell_type": "code",
   "execution_count": 177,
   "metadata": {},
   "outputs": [
    {
     "data": {
      "image/png": "[encoded data removed]",
      "text/plain": [
       "<Figure size 432x288 with 1 Axes>"
      ]
     },
     "metadata": {
      "needs_background": "light"
     },
     "output_type": "display_data"
    }
   ],
   "source": [
    "x1 = param_search_df[param_search_df.loss==\"warp\"].no_components\n",
    "y1 = param_search_df[param_search_df.loss==\"warp\"].MAP_train\n",
    "plt.plot(x1, y1, label = \"warp_MAP_train\")\n",
    "x2 = param_search_df[param_search_df.loss==\"warp\"].no_components\n",
    "y2 = param_search_df[param_search_df.loss==\"warp\"].MAP_test\n",
    "plt.plot(x1, y2, label = \"warp_MAP_test\")\n",
    "x3 = param_search_df[param_search_df.loss==\"bpr\"].no_components\n",
    "y3 = param_search_df[param_search_df.loss==\"bpr\"].MAP_train\n",
    "plt.plot(x3, y3, label = \"bpr_MAP_train\")\n",
    "x4 = param_search_df[param_search_df.loss==\"bpr\"].no_components\n",
    "y4 = param_search_df[param_search_df.loss==\"bpr\"].MAP_test\n",
    "plt.plot(x4, y4, label = \"bpr_MAP_test\")\n",
    "plt.legend()\n",
    "plt.show()"
   ]
  },
  {
   "cell_type": "markdown",
   "metadata": {},
   "source": [
    "- Hybrid"
   ]
  },
  {
   "cell_type": "code",
   "execution_count": 239,
   "metadata": {},
   "outputs": [
    {
     "name": "stdout",
     "output_type": "stream",
     "text": [
      "Training complete for one set of parameters. Time taken: 617.0411319732666\n",
      "Training complete for one set of parameters. Time taken: 593.3146090507507\n",
      "Training complete for one set of parameters. Time taken: 727.3680787086487\n",
      "Training complete for one set of parameters. Time taken: 720.9481649398804\n",
      "Training complete for one set of parameters. Time taken: 953.0193419456482\n",
      "Training complete for one set of parameters. Time taken: 935.8746838569641\n",
      "Training complete for one set of parameters. Time taken: 1276.8406298160553\n",
      "Training complete for one set of parameters. Time taken: 1177.9624469280243\n",
      "Training complete for one set of parameters. Time taken: 803.3708419799805\n",
      "Training complete for one set of parameters. Time taken: 775.5469348430634\n",
      "Training complete for one set of parameters. Time taken: 1031.6225259304047\n",
      "Training complete for one set of parameters. Time taken: 930.4415709972382\n"
     ]
    }
   ],
   "source": [
    "hyperparameter_search(\"Hybrid_genres\", parameter_combinations, train_interactions2, test_interactions2, item_features=item_features,verbose=True)"
   ]
  },
  {
   "cell_type": "code",
   "execution_count": 326,
   "metadata": {},
   "outputs": [
    {
     "name": "stdout",
     "output_type": "stream",
     "text": [
      "Training complete for one set of parameters. Time taken: 614.0722179412842\n",
      "Training complete for one set of parameters. Time taken: 786.6177659034729\n",
      "Training complete for one set of parameters. Time taken: 953.2289838790894\n",
      "Training complete for one set of parameters. Time taken: 1126.5582468509674\n",
      "Training complete for one set of parameters. Time taken: 1347.9920268058777\n",
      "Training complete for one set of parameters. Time taken: 1515.320258140564\n"
     ]
    }
   ],
   "source": [
    "hyperparameter_search(\"Hybrid_features_comb1_normalized\", parameter_combinations, train_interactions3, test_interactions3, item_features=item_features2, verbose=True)"
   ]
  },
  {
   "cell_type": "code",
   "execution_count": 240,
   "metadata": {},
   "outputs": [
    {
     "data": {
      "text/html": [
       "<div>\n",
       "<style scoped>\n",
       "    .dataframe tbody tr th:only-of-type {\n",
       "        vertical-align: middle;\n",
       "    }\n",
       "\n",
       "    .dataframe tbody tr th {\n",
       "        vertical-align: top;\n",
       "    }\n",
       "\n",
       "    .dataframe thead th {\n",
       "        text-align: right;\n",
       "    }\n",
       "</style>\n",
       "<table border=\"1\" class=\"dataframe\">\n",
       "  <thead>\n",
       "    <tr style=\"text-align: right;\">\n",
       "      <th></th>\n",
       "      <th>@K</th>\n",
       "      <th>MAP_test</th>\n",
       "      <th>MAP_train</th>\n",
       "      <th>auc_test</th>\n",
       "      <th>auc_train</th>\n",
       "      <th>epochs</th>\n",
       "      <th>epsilon</th>\n",
       "      <th>item_alpha</th>\n",
       "      <th>k</th>\n",
       "      <th>learning_rate</th>\n",
       "      <th>max_sampled</th>\n",
       "      <th>n</th>\n",
       "      <th>no_components</th>\n",
       "      <th>rho</th>\n",
       "      <th>time</th>\n",
       "      <th>user_alpha</th>\n",
       "    </tr>\n",
       "  </thead>\n",
       "  <tbody>\n",
       "    <tr>\n",
       "      <th>count</th>\n",
       "      <td>12.0</td>\n",
       "      <td>12.000000</td>\n",
       "      <td>12.000000</td>\n",
       "      <td>12.000000</td>\n",
       "      <td>12.000000</td>\n",
       "      <td>12.0</td>\n",
       "      <td>1.200000e+01</td>\n",
       "      <td>12.0</td>\n",
       "      <td>12.0</td>\n",
       "      <td>1.200000e+01</td>\n",
       "      <td>12.0</td>\n",
       "      <td>12.0</td>\n",
       "      <td>12.000000</td>\n",
       "      <td>1.200000e+01</td>\n",
       "      <td>12.000000</td>\n",
       "      <td>12.0</td>\n",
       "    </tr>\n",
       "    <tr>\n",
       "      <th>mean</th>\n",
       "      <td>20.0</td>\n",
       "      <td>0.073731</td>\n",
       "      <td>0.317785</td>\n",
       "      <td>0.931653</td>\n",
       "      <td>0.957771</td>\n",
       "      <td>5.0</td>\n",
       "      <td>1.000000e-06</td>\n",
       "      <td>0.0</td>\n",
       "      <td>5.0</td>\n",
       "      <td>5.000000e-02</td>\n",
       "      <td>10.0</td>\n",
       "      <td>10.0</td>\n",
       "      <td>17.500000</td>\n",
       "      <td>9.500000e-01</td>\n",
       "      <td>590.464765</td>\n",
       "      <td>0.0</td>\n",
       "    </tr>\n",
       "    <tr>\n",
       "      <th>std</th>\n",
       "      <td>0.0</td>\n",
       "      <td>0.010376</td>\n",
       "      <td>0.019905</td>\n",
       "      <td>0.061878</td>\n",
       "      <td>0.037721</td>\n",
       "      <td>0.0</td>\n",
       "      <td>2.211743e-22</td>\n",
       "      <td>0.0</td>\n",
       "      <td>0.0</td>\n",
       "      <td>7.247438e-18</td>\n",
       "      <td>0.0</td>\n",
       "      <td>0.0</td>\n",
       "      <td>8.918826</td>\n",
       "      <td>1.159590e-16</td>\n",
       "      <td>448.501566</td>\n",
       "      <td>0.0</td>\n",
       "    </tr>\n",
       "    <tr>\n",
       "      <th>min</th>\n",
       "      <td>20.0</td>\n",
       "      <td>0.059042</td>\n",
       "      <td>0.291714</td>\n",
       "      <td>0.863437</td>\n",
       "      <td>0.905723</td>\n",
       "      <td>5.0</td>\n",
       "      <td>1.000000e-06</td>\n",
       "      <td>0.0</td>\n",
       "      <td>5.0</td>\n",
       "      <td>5.000000e-02</td>\n",
       "      <td>10.0</td>\n",
       "      <td>10.0</td>\n",
       "      <td>5.000000</td>\n",
       "      <td>9.500000e-01</td>\n",
       "      <td>281.964475</td>\n",
       "      <td>0.0</td>\n",
       "    </tr>\n",
       "    <tr>\n",
       "      <th>25%</th>\n",
       "      <td>20.0</td>\n",
       "      <td>0.064065</td>\n",
       "      <td>0.304612</td>\n",
       "      <td>0.875083</td>\n",
       "      <td>0.925563</td>\n",
       "      <td>5.0</td>\n",
       "      <td>1.000000e-06</td>\n",
       "      <td>0.0</td>\n",
       "      <td>5.0</td>\n",
       "      <td>5.000000e-02</td>\n",
       "      <td>10.0</td>\n",
       "      <td>10.0</td>\n",
       "      <td>10.000000</td>\n",
       "      <td>9.500000e-01</td>\n",
       "      <td>374.329936</td>\n",
       "      <td>0.0</td>\n",
       "    </tr>\n",
       "    <tr>\n",
       "      <th>50%</th>\n",
       "      <td>20.0</td>\n",
       "      <td>0.076433</td>\n",
       "      <td>0.313479</td>\n",
       "      <td>0.934087</td>\n",
       "      <td>0.962226</td>\n",
       "      <td>5.0</td>\n",
       "      <td>1.000000e-06</td>\n",
       "      <td>0.0</td>\n",
       "      <td>5.0</td>\n",
       "      <td>5.000000e-02</td>\n",
       "      <td>10.0</td>\n",
       "      <td>10.0</td>\n",
       "      <td>17.500000</td>\n",
       "      <td>9.500000e-01</td>\n",
       "      <td>484.728086</td>\n",
       "      <td>0.0</td>\n",
       "    </tr>\n",
       "    <tr>\n",
       "      <th>75%</th>\n",
       "      <td>20.0</td>\n",
       "      <td>0.083807</td>\n",
       "      <td>0.331753</td>\n",
       "      <td>0.990899</td>\n",
       "      <td>0.993463</td>\n",
       "      <td>5.0</td>\n",
       "      <td>1.000000e-06</td>\n",
       "      <td>0.0</td>\n",
       "      <td>5.0</td>\n",
       "      <td>5.000000e-02</td>\n",
       "      <td>10.0</td>\n",
       "      <td>10.0</td>\n",
       "      <td>25.000000</td>\n",
       "      <td>9.500000e-01</td>\n",
       "      <td>601.559224</td>\n",
       "      <td>0.0</td>\n",
       "    </tr>\n",
       "    <tr>\n",
       "      <th>max</th>\n",
       "      <td>20.0</td>\n",
       "      <td>0.084643</td>\n",
       "      <td>0.352837</td>\n",
       "      <td>0.991106</td>\n",
       "      <td>0.994114</td>\n",
       "      <td>5.0</td>\n",
       "      <td>1.000000e-06</td>\n",
       "      <td>0.0</td>\n",
       "      <td>5.0</td>\n",
       "      <td>5.000000e-02</td>\n",
       "      <td>10.0</td>\n",
       "      <td>10.0</td>\n",
       "      <td>30.000000</td>\n",
       "      <td>9.500000e-01</td>\n",
       "      <td>1953.422823</td>\n",
       "      <td>0.0</td>\n",
       "    </tr>\n",
       "  </tbody>\n",
       "</table>\n",
       "</div>"
      ],
      "text/plain": [
       "         @K   MAP_test  MAP_train   auc_test  auc_train  epochs       epsilon  \\\n",
       "count  12.0  12.000000  12.000000  12.000000  12.000000    12.0  1.200000e+01   \n",
       "mean   20.0   0.073731   0.317785   0.931653   0.957771     5.0  1.000000e-06   \n",
       "std     0.0   0.010376   0.019905   0.061878   0.037721     0.0  2.211743e-22   \n",
       "min    20.0   0.059042   0.291714   0.863437   0.905723     5.0  1.000000e-06   \n",
       "25%    20.0   0.064065   0.304612   0.875083   0.925563     5.0  1.000000e-06   \n",
       "50%    20.0   0.076433   0.313479   0.934087   0.962226     5.0  1.000000e-06   \n",
       "75%    20.0   0.083807   0.331753   0.990899   0.993463     5.0  1.000000e-06   \n",
       "max    20.0   0.084643   0.352837   0.991106   0.994114     5.0  1.000000e-06   \n",
       "\n",
       "       item_alpha     k  learning_rate  max_sampled     n  no_components  \\\n",
       "count        12.0  12.0   1.200000e+01         12.0  12.0      12.000000   \n",
       "mean          0.0   5.0   5.000000e-02         10.0  10.0      17.500000   \n",
       "std           0.0   0.0   7.247438e-18          0.0   0.0       8.918826   \n",
       "min           0.0   5.0   5.000000e-02         10.0  10.0       5.000000   \n",
       "25%           0.0   5.0   5.000000e-02         10.0  10.0      10.000000   \n",
       "50%           0.0   5.0   5.000000e-02         10.0  10.0      17.500000   \n",
       "75%           0.0   5.0   5.000000e-02         10.0  10.0      25.000000   \n",
       "max           0.0   5.0   5.000000e-02         10.0  10.0      30.000000   \n",
       "\n",
       "                rho         time  user_alpha  \n",
       "count  1.200000e+01    12.000000        12.0  \n",
       "mean   9.500000e-01   590.464765         0.0  \n",
       "std    1.159590e-16   448.501566         0.0  \n",
       "min    9.500000e-01   281.964475         0.0  \n",
       "25%    9.500000e-01   374.329936         0.0  \n",
       "50%    9.500000e-01   484.728086         0.0  \n",
       "75%    9.500000e-01   601.559224         0.0  \n",
       "max    9.500000e-01  1953.422823         0.0  "
      ]
     },
     "execution_count": 240,
     "metadata": {},
     "output_type": "execute_result"
    }
   ],
   "source": [
    "param_search_df[param_search_df.model_name == \"PureCF\"].describe()"
   ]
  },
  {
   "cell_type": "code",
   "execution_count": 241,
   "metadata": {
    "scrolled": true
   },
   "outputs": [
    {
     "data": {
      "text/html": [
       "<div>\n",
       "<style scoped>\n",
       "    .dataframe tbody tr th:only-of-type {\n",
       "        vertical-align: middle;\n",
       "    }\n",
       "\n",
       "    .dataframe tbody tr th {\n",
       "        vertical-align: top;\n",
       "    }\n",
       "\n",
       "    .dataframe thead th {\n",
       "        text-align: right;\n",
       "    }\n",
       "</style>\n",
       "<table border=\"1\" class=\"dataframe\">\n",
       "  <thead>\n",
       "    <tr style=\"text-align: right;\">\n",
       "      <th></th>\n",
       "      <th>@K</th>\n",
       "      <th>MAP_test</th>\n",
       "      <th>MAP_train</th>\n",
       "      <th>auc_test</th>\n",
       "      <th>auc_train</th>\n",
       "      <th>epochs</th>\n",
       "      <th>epsilon</th>\n",
       "      <th>item_alpha</th>\n",
       "      <th>k</th>\n",
       "      <th>learning_rate</th>\n",
       "      <th>max_sampled</th>\n",
       "      <th>n</th>\n",
       "      <th>no_components</th>\n",
       "      <th>rho</th>\n",
       "      <th>time</th>\n",
       "      <th>user_alpha</th>\n",
       "    </tr>\n",
       "  </thead>\n",
       "  <tbody>\n",
       "    <tr>\n",
       "      <th>count</th>\n",
       "      <td>24.0</td>\n",
       "      <td>24.000000</td>\n",
       "      <td>24.000000</td>\n",
       "      <td>24.000000</td>\n",
       "      <td>24.000000</td>\n",
       "      <td>24.0</td>\n",
       "      <td>2.400000e+01</td>\n",
       "      <td>24.0</td>\n",
       "      <td>24.0</td>\n",
       "      <td>2.400000e+01</td>\n",
       "      <td>24.0</td>\n",
       "      <td>24.0</td>\n",
       "      <td>24.000000</td>\n",
       "      <td>2.400000e+01</td>\n",
       "      <td>24.000000</td>\n",
       "      <td>24.0</td>\n",
       "    </tr>\n",
       "    <tr>\n",
       "      <th>mean</th>\n",
       "      <td>20.0</td>\n",
       "      <td>0.058034</td>\n",
       "      <td>0.229643</td>\n",
       "      <td>0.903732</td>\n",
       "      <td>0.933586</td>\n",
       "      <td>5.0</td>\n",
       "      <td>1.000000e-06</td>\n",
       "      <td>0.0</td>\n",
       "      <td>5.0</td>\n",
       "      <td>5.000000e-02</td>\n",
       "      <td>10.0</td>\n",
       "      <td>10.0</td>\n",
       "      <td>36.666667</td>\n",
       "      <td>9.500000e-01</td>\n",
       "      <td>772.014383</td>\n",
       "      <td>0.0</td>\n",
       "    </tr>\n",
       "    <tr>\n",
       "      <th>std</th>\n",
       "      <td>0.0</td>\n",
       "      <td>0.024669</td>\n",
       "      <td>0.076705</td>\n",
       "      <td>0.088722</td>\n",
       "      <td>0.061743</td>\n",
       "      <td>0.0</td>\n",
       "      <td>4.326254e-22</td>\n",
       "      <td>0.0</td>\n",
       "      <td>0.0</td>\n",
       "      <td>1.417627e-17</td>\n",
       "      <td>0.0</td>\n",
       "      <td>0.0</td>\n",
       "      <td>23.529199</td>\n",
       "      <td>3.402305e-16</td>\n",
       "      <td>222.144898</td>\n",
       "      <td>0.0</td>\n",
       "    </tr>\n",
       "    <tr>\n",
       "      <th>min</th>\n",
       "      <td>20.0</td>\n",
       "      <td>0.032628</td>\n",
       "      <td>0.145121</td>\n",
       "      <td>0.807265</td>\n",
       "      <td>0.853260</td>\n",
       "      <td>5.0</td>\n",
       "      <td>1.000000e-06</td>\n",
       "      <td>0.0</td>\n",
       "      <td>5.0</td>\n",
       "      <td>5.000000e-02</td>\n",
       "      <td>10.0</td>\n",
       "      <td>10.0</td>\n",
       "      <td>5.000000</td>\n",
       "      <td>9.500000e-01</td>\n",
       "      <td>409.909682</td>\n",
       "      <td>0.0</td>\n",
       "    </tr>\n",
       "    <tr>\n",
       "      <th>25%</th>\n",
       "      <td>20.0</td>\n",
       "      <td>0.033650</td>\n",
       "      <td>0.152703</td>\n",
       "      <td>0.817534</td>\n",
       "      <td>0.875796</td>\n",
       "      <td>5.0</td>\n",
       "      <td>1.000000e-06</td>\n",
       "      <td>0.0</td>\n",
       "      <td>5.0</td>\n",
       "      <td>5.000000e-02</td>\n",
       "      <td>10.0</td>\n",
       "      <td>10.0</td>\n",
       "      <td>18.750000</td>\n",
       "      <td>9.500000e-01</td>\n",
       "      <td>603.644490</td>\n",
       "      <td>0.0</td>\n",
       "    </tr>\n",
       "    <tr>\n",
       "      <th>50%</th>\n",
       "      <td>20.0</td>\n",
       "      <td>0.057591</td>\n",
       "      <td>0.226036</td>\n",
       "      <td>0.907135</td>\n",
       "      <td>0.938644</td>\n",
       "      <td>5.0</td>\n",
       "      <td>1.000000e-06</td>\n",
       "      <td>0.0</td>\n",
       "      <td>5.0</td>\n",
       "      <td>5.000000e-02</td>\n",
       "      <td>10.0</td>\n",
       "      <td>10.0</td>\n",
       "      <td>32.500000</td>\n",
       "      <td>9.500000e-01</td>\n",
       "      <td>751.457507</td>\n",
       "      <td>0.0</td>\n",
       "    </tr>\n",
       "    <tr>\n",
       "      <th>75%</th>\n",
       "      <td>20.0</td>\n",
       "      <td>0.082653</td>\n",
       "      <td>0.306879</td>\n",
       "      <td>0.990671</td>\n",
       "      <td>0.993895</td>\n",
       "      <td>5.0</td>\n",
       "      <td>1.000000e-06</td>\n",
       "      <td>0.0</td>\n",
       "      <td>5.0</td>\n",
       "      <td>5.000000e-02</td>\n",
       "      <td>10.0</td>\n",
       "      <td>10.0</td>\n",
       "      <td>52.500000</td>\n",
       "      <td>9.500000e-01</td>\n",
       "      <td>931.799849</td>\n",
       "      <td>0.0</td>\n",
       "    </tr>\n",
       "    <tr>\n",
       "      <th>max</th>\n",
       "      <td>20.0</td>\n",
       "      <td>0.083853</td>\n",
       "      <td>0.312044</td>\n",
       "      <td>0.991049</td>\n",
       "      <td>0.994468</td>\n",
       "      <td>5.0</td>\n",
       "      <td>1.000000e-06</td>\n",
       "      <td>0.0</td>\n",
       "      <td>5.0</td>\n",
       "      <td>5.000000e-02</td>\n",
       "      <td>10.0</td>\n",
       "      <td>10.0</td>\n",
       "      <td>80.000000</td>\n",
       "      <td>9.500000e-01</td>\n",
       "      <td>1276.840630</td>\n",
       "      <td>0.0</td>\n",
       "    </tr>\n",
       "  </tbody>\n",
       "</table>\n",
       "</div>"
      ],
      "text/plain": [
       "         @K   MAP_test  MAP_train   auc_test  auc_train  epochs       epsilon  \\\n",
       "count  24.0  24.000000  24.000000  24.000000  24.000000    24.0  2.400000e+01   \n",
       "mean   20.0   0.058034   0.229643   0.903732   0.933586     5.0  1.000000e-06   \n",
       "std     0.0   0.024669   0.076705   0.088722   0.061743     0.0  4.326254e-22   \n",
       "min    20.0   0.032628   0.145121   0.807265   0.853260     5.0  1.000000e-06   \n",
       "25%    20.0   0.033650   0.152703   0.817534   0.875796     5.0  1.000000e-06   \n",
       "50%    20.0   0.057591   0.226036   0.907135   0.938644     5.0  1.000000e-06   \n",
       "75%    20.0   0.082653   0.306879   0.990671   0.993895     5.0  1.000000e-06   \n",
       "max    20.0   0.083853   0.312044   0.991049   0.994468     5.0  1.000000e-06   \n",
       "\n",
       "       item_alpha     k  learning_rate  max_sampled     n  no_components  \\\n",
       "count        24.0  24.0   2.400000e+01         24.0  24.0      24.000000   \n",
       "mean          0.0   5.0   5.000000e-02         10.0  10.0      36.666667   \n",
       "std           0.0   0.0   1.417627e-17          0.0   0.0      23.529199   \n",
       "min           0.0   5.0   5.000000e-02         10.0  10.0       5.000000   \n",
       "25%           0.0   5.0   5.000000e-02         10.0  10.0      18.750000   \n",
       "50%           0.0   5.0   5.000000e-02         10.0  10.0      32.500000   \n",
       "75%           0.0   5.0   5.000000e-02         10.0  10.0      52.500000   \n",
       "max           0.0   5.0   5.000000e-02         10.0  10.0      80.000000   \n",
       "\n",
       "                rho         time  user_alpha  \n",
       "count  2.400000e+01    24.000000        24.0  \n",
       "mean   9.500000e-01   772.014383         0.0  \n",
       "std    3.402305e-16   222.144898         0.0  \n",
       "min    9.500000e-01   409.909682         0.0  \n",
       "25%    9.500000e-01   603.644490         0.0  \n",
       "50%    9.500000e-01   751.457507         0.0  \n",
       "75%    9.500000e-01   931.799849         0.0  \n",
       "max    9.500000e-01  1276.840630         0.0  "
      ]
     },
     "execution_count": 241,
     "metadata": {},
     "output_type": "execute_result"
    }
   ],
   "source": [
    "param_search_df[param_search_df.model_name == \"Hybrid_genres\"].describe()"
   ]
  },
  {
   "cell_type": "code",
   "execution_count": 327,
   "metadata": {
    "scrolled": true
   },
   "outputs": [
    {
     "data": {
      "text/html": [
       "<div>\n",
       "<style scoped>\n",
       "    .dataframe tbody tr th:only-of-type {\n",
       "        vertical-align: middle;\n",
       "    }\n",
       "\n",
       "    .dataframe tbody tr th {\n",
       "        vertical-align: top;\n",
       "    }\n",
       "\n",
       "    .dataframe thead th {\n",
       "        text-align: right;\n",
       "    }\n",
       "</style>\n",
       "<table border=\"1\" class=\"dataframe\">\n",
       "  <thead>\n",
       "    <tr style=\"text-align: right;\">\n",
       "      <th></th>\n",
       "      <th>@K</th>\n",
       "      <th>MAP_test</th>\n",
       "      <th>MAP_train</th>\n",
       "      <th>auc_test</th>\n",
       "      <th>auc_train</th>\n",
       "      <th>epochs</th>\n",
       "      <th>epsilon</th>\n",
       "      <th>item_alpha</th>\n",
       "      <th>k</th>\n",
       "      <th>learning_rate</th>\n",
       "      <th>max_sampled</th>\n",
       "      <th>n</th>\n",
       "      <th>no_components</th>\n",
       "      <th>rho</th>\n",
       "      <th>time</th>\n",
       "      <th>user_alpha</th>\n",
       "    </tr>\n",
       "  </thead>\n",
       "  <tbody>\n",
       "    <tr>\n",
       "      <th>count</th>\n",
       "      <td>18.0</td>\n",
       "      <td>18.000000</td>\n",
       "      <td>18.000000</td>\n",
       "      <td>18.000000</td>\n",
       "      <td>18.000000</td>\n",
       "      <td>18.0</td>\n",
       "      <td>1.800000e+01</td>\n",
       "      <td>18.0</td>\n",
       "      <td>18.0</td>\n",
       "      <td>1.800000e+01</td>\n",
       "      <td>18.0</td>\n",
       "      <td>18.0</td>\n",
       "      <td>18.000000</td>\n",
       "      <td>1.800000e+01</td>\n",
       "      <td>18.000000</td>\n",
       "      <td>18.0</td>\n",
       "    </tr>\n",
       "    <tr>\n",
       "      <th>mean</th>\n",
       "      <td>20.0</td>\n",
       "      <td>0.060810</td>\n",
       "      <td>0.231302</td>\n",
       "      <td>0.931736</td>\n",
       "      <td>0.950482</td>\n",
       "      <td>5.0</td>\n",
       "      <td>1.000000e-06</td>\n",
       "      <td>0.0</td>\n",
       "      <td>5.0</td>\n",
       "      <td>5.000000e-02</td>\n",
       "      <td>10.0</td>\n",
       "      <td>10.0</td>\n",
       "      <td>27.500000</td>\n",
       "      <td>9.500000e-01</td>\n",
       "      <td>933.787916</td>\n",
       "      <td>0.0</td>\n",
       "    </tr>\n",
       "    <tr>\n",
       "      <th>std</th>\n",
       "      <td>0.0</td>\n",
       "      <td>0.029917</td>\n",
       "      <td>0.103658</td>\n",
       "      <td>0.085283</td>\n",
       "      <td>0.062633</td>\n",
       "      <td>0.0</td>\n",
       "      <td>2.178974e-22</td>\n",
       "      <td>0.0</td>\n",
       "      <td>0.0</td>\n",
       "      <td>1.428013e-17</td>\n",
       "      <td>0.0</td>\n",
       "      <td>0.0</td>\n",
       "      <td>16.999135</td>\n",
       "      <td>2.284820e-16</td>\n",
       "      <td>311.941680</td>\n",
       "      <td>0.0</td>\n",
       "    </tr>\n",
       "    <tr>\n",
       "      <th>min</th>\n",
       "      <td>20.0</td>\n",
       "      <td>0.017418</td>\n",
       "      <td>0.084148</td>\n",
       "      <td>0.809024</td>\n",
       "      <td>0.850367</td>\n",
       "      <td>5.0</td>\n",
       "      <td>1.000000e-06</td>\n",
       "      <td>0.0</td>\n",
       "      <td>5.0</td>\n",
       "      <td>5.000000e-02</td>\n",
       "      <td>10.0</td>\n",
       "      <td>10.0</td>\n",
       "      <td>5.000000</td>\n",
       "      <td>9.500000e-01</td>\n",
       "      <td>481.555425</td>\n",
       "      <td>0.0</td>\n",
       "    </tr>\n",
       "    <tr>\n",
       "      <th>25%</th>\n",
       "      <td>20.0</td>\n",
       "      <td>0.021509</td>\n",
       "      <td>0.091830</td>\n",
       "      <td>0.818374</td>\n",
       "      <td>0.871914</td>\n",
       "      <td>5.0</td>\n",
       "      <td>1.000000e-06</td>\n",
       "      <td>0.0</td>\n",
       "      <td>5.0</td>\n",
       "      <td>5.000000e-02</td>\n",
       "      <td>10.0</td>\n",
       "      <td>10.0</td>\n",
       "      <td>15.000000</td>\n",
       "      <td>9.500000e-01</td>\n",
       "      <td>671.134705</td>\n",
       "      <td>0.0</td>\n",
       "    </tr>\n",
       "    <tr>\n",
       "      <th>50%</th>\n",
       "      <td>20.0</td>\n",
       "      <td>0.080426</td>\n",
       "      <td>0.298316</td>\n",
       "      <td>0.989994</td>\n",
       "      <td>0.992983</td>\n",
       "      <td>5.0</td>\n",
       "      <td>1.000000e-06</td>\n",
       "      <td>0.0</td>\n",
       "      <td>5.0</td>\n",
       "      <td>5.000000e-02</td>\n",
       "      <td>10.0</td>\n",
       "      <td>10.0</td>\n",
       "      <td>25.000000</td>\n",
       "      <td>9.500000e-01</td>\n",
       "      <td>941.186977</td>\n",
       "      <td>0.0</td>\n",
       "    </tr>\n",
       "    <tr>\n",
       "      <th>75%</th>\n",
       "      <td>20.0</td>\n",
       "      <td>0.082505</td>\n",
       "      <td>0.307692</td>\n",
       "      <td>0.990731</td>\n",
       "      <td>0.993901</td>\n",
       "      <td>5.0</td>\n",
       "      <td>1.000000e-06</td>\n",
       "      <td>0.0</td>\n",
       "      <td>5.0</td>\n",
       "      <td>5.000000e-02</td>\n",
       "      <td>10.0</td>\n",
       "      <td>10.0</td>\n",
       "      <td>38.750000</td>\n",
       "      <td>9.500000e-01</td>\n",
       "      <td>1171.831405</td>\n",
       "      <td>0.0</td>\n",
       "    </tr>\n",
       "    <tr>\n",
       "      <th>max</th>\n",
       "      <td>20.0</td>\n",
       "      <td>0.082836</td>\n",
       "      <td>0.310579</td>\n",
       "      <td>0.990968</td>\n",
       "      <td>0.994279</td>\n",
       "      <td>5.0</td>\n",
       "      <td>1.000000e-06</td>\n",
       "      <td>0.0</td>\n",
       "      <td>5.0</td>\n",
       "      <td>5.000000e-02</td>\n",
       "      <td>10.0</td>\n",
       "      <td>10.0</td>\n",
       "      <td>60.000000</td>\n",
       "      <td>9.500000e-01</td>\n",
       "      <td>1515.320258</td>\n",
       "      <td>0.0</td>\n",
       "    </tr>\n",
       "  </tbody>\n",
       "</table>\n",
       "</div>"
      ],
      "text/plain": [
       "         @K   MAP_test  MAP_train   auc_test  auc_train  epochs       epsilon  \\\n",
       "count  18.0  18.000000  18.000000  18.000000  18.000000    18.0  1.800000e+01   \n",
       "mean   20.0   0.060810   0.231302   0.931736   0.950482     5.0  1.000000e-06   \n",
       "std     0.0   0.029917   0.103658   0.085283   0.062633     0.0  2.178974e-22   \n",
       "min    20.0   0.017418   0.084148   0.809024   0.850367     5.0  1.000000e-06   \n",
       "25%    20.0   0.021509   0.091830   0.818374   0.871914     5.0  1.000000e-06   \n",
       "50%    20.0   0.080426   0.298316   0.989994   0.992983     5.0  1.000000e-06   \n",
       "75%    20.0   0.082505   0.307692   0.990731   0.993901     5.0  1.000000e-06   \n",
       "max    20.0   0.082836   0.310579   0.990968   0.994279     5.0  1.000000e-06   \n",
       "\n",
       "       item_alpha     k  learning_rate  max_sampled     n  no_components  \\\n",
       "count        18.0  18.0   1.800000e+01         18.0  18.0      18.000000   \n",
       "mean          0.0   5.0   5.000000e-02         10.0  10.0      27.500000   \n",
       "std           0.0   0.0   1.428013e-17          0.0   0.0      16.999135   \n",
       "min           0.0   5.0   5.000000e-02         10.0  10.0       5.000000   \n",
       "25%           0.0   5.0   5.000000e-02         10.0  10.0      15.000000   \n",
       "50%           0.0   5.0   5.000000e-02         10.0  10.0      25.000000   \n",
       "75%           0.0   5.0   5.000000e-02         10.0  10.0      38.750000   \n",
       "max           0.0   5.0   5.000000e-02         10.0  10.0      60.000000   \n",
       "\n",
       "                rho         time  user_alpha  \n",
       "count  1.800000e+01    18.000000        18.0  \n",
       "mean   9.500000e-01   933.787916         0.0  \n",
       "std    2.284820e-16   311.941680         0.0  \n",
       "min    9.500000e-01   481.555425         0.0  \n",
       "25%    9.500000e-01   671.134705         0.0  \n",
       "50%    9.500000e-01   941.186977         0.0  \n",
       "75%    9.500000e-01  1171.831405         0.0  \n",
       "max    9.500000e-01  1515.320258         0.0  "
      ]
     },
     "execution_count": 327,
     "metadata": {},
     "output_type": "execute_result"
    }
   ],
   "source": [
    "param_search_df[param_search_df.model_name == \"Hybrid_features_comb1_normalized\"].describe()"
   ]
  },
  {
   "cell_type": "code",
   "execution_count": 302,
   "metadata": {},
   "outputs": [
    {
     "data": {
      "text/plain": [
       "Index(['@K', 'MAP_test', 'MAP_train', 'auc_test', 'auc_train', 'epochs',\n",
       "       'epsilon', 'item_alpha', 'k', 'learning_rate', 'learning_schedule',\n",
       "       'loss', 'max_sampled', 'model_name', 'n', 'no_components',\n",
       "       'random_state', 'rho', 'time', 'user_alpha'],\n",
       "      dtype='object')"
      ]
     },
     "execution_count": 302,
     "metadata": {},
     "output_type": "execute_result"
    }
   ],
   "source": [
    "param_search_df.columns"
   ]
  },
  {
   "cell_type": "markdown",
   "metadata": {},
   "source": [
    "- Hybrid graph"
   ]
  },
  {
   "cell_type": "code",
   "execution_count": 325,
   "metadata": {},
   "outputs": [
    {
     "data": {
      "image/png": "[encoded data removed]",
      "text/plain": [
       "<Figure size 432x288 with 1 Axes>"
      ]
     },
     "metadata": {
      "needs_background": "light"
     },
     "output_type": "display_data"
    }
   ],
   "source": [
    "# x1 = param_search_df[(param_search_df.loss==\"warp\") & (param_search_df.model_name==\"Hybrid_genres\")].no_components\n",
    "# y1 = param_search_df[(param_search_df.loss==\"warp\") & (param_search_df.model_name==\"Hybrid_genres\")].MAP_train\n",
    "# plt.plot(x1, y1, label = \"warp_MAP_train\")\n",
    "# x2 = param_search_df[(param_search_df.loss==\"warp\") & (param_search_df.model_name==\"Hybrid_genres\")].no_components\n",
    "# y2 = param_search_df[(param_search_df.loss==\"warp\") & (param_search_df.model_name==\"Hybrid_genres\")].MAP_test\n",
    "# plt.plot(x1, y2, label = \"warp_MAP_test\")\n",
    "plt.legend()\n",
    "plt.show()"
   ]
  },
  {
   "cell_type": "code",
   "execution_count": 307,
   "metadata": {},
   "outputs": [
    {
     "data": {
      "image/png": "[encoded data removed]",
      "text/plain": [
       "<Figure size 432x288 with 1 Axes>"
      ]
     },
     "metadata": {
      "needs_background": "light"
     },
     "output_type": "display_data"
    }
   ],
   "source": [
    "# x3 = param_search_df[(param_search_df.loss==\"bpr\") & (param_search_df.model_name==\"Hybrid_genres\")].no_components\n",
    "# y3 = param_search_df[(param_search_df.loss==\"bpr\") & (param_search_df.model_name==\"Hybrid_genres\")].MAP_train\n",
    "# plt.plot(x3, y3, label = \"bpr_MAP_train\")\n",
    "x4 = param_search_df[(param_search_df.loss==\"bpr\") & (param_search_df.model_name==\"Hybrid_genres\")].no_components\n",
    "y4 = param_search_df[(param_search_df.loss==\"bpr\") & (param_search_df.model_name==\"Hybrid_genres\")].MAP_test\n",
    "plt.plot(x4, y4, label = \"bpr_MAP_test\")\n",
    "plt.legend()\n",
    "plt.show()"
   ]
  },
  {
   "cell_type": "code",
   "execution_count": 328,
   "metadata": {},
   "outputs": [
    {
     "data": {
      "image/png": "[encoded data removed]",
      "text/plain": [
       "<Figure size 432x288 with 1 Axes>"
      ]
     },
     "metadata": {
      "needs_background": "light"
     },
     "output_type": "display_data"
    }
   ],
   "source": [
    "x1 = param_search_df[(param_search_df.loss==\"warp\") & (param_search_df.model_name==\"Hybrid_features_comb1_normalized\")].no_components\n",
    "y1 = param_search_df[(param_search_df.loss==\"warp\") & (param_search_df.model_name==\"Hybrid_features_comb1_normalized\")].MAP_train\n",
    "plt.plot(x1, y1, label = \"warp_MAP_train\")\n",
    "# x2 = param_search_df[(param_search_df.loss==\"warp\") & (param_search_df.model_name==\"Hybrid_features_comb1_normalized\")].no_components\n",
    "# y2 = param_search_df[(param_search_df.loss==\"warp\") & (param_search_df.model_name==\"Hybrid_features_comb1_normalized\")].MAP_test\n",
    "# plt.plot(x1, y2, label = \"warp_MAP_test\")\n",
    "plt.legend()\n",
    "plt.show()"
   ]
  },
  {
   "cell_type": "code",
   "execution_count": 316,
   "metadata": {},
   "outputs": [
    {
     "data": {
      "image/png": "[encoded data removed]",
      "text/plain": [
       "<Figure size 432x288 with 1 Axes>"
      ]
     },
     "metadata": {
      "needs_background": "light"
     },
     "output_type": "display_data"
    }
   ],
   "source": [
    "x3 = param_search_df[(param_search_df.loss==\"bpr\") & (param_search_df.model_name==\"Hybrid_features_comb1_normalized\")].no_components\n",
    "y3 = param_search_df[(param_search_df.loss==\"bpr\") & (param_search_df.model_name==\"Hybrid_features_comb1_normalized\")].MAP_train\n",
    "plt.plot(x3, y3, label = \"bpr_MAP_train\")\n",
    "x4 = param_search_df[(param_search_df.loss==\"bpr\") & (param_search_df.model_name==\"Hybrid_features_comb1_normalized\")].no_components\n",
    "y4 = param_search_df[(param_search_df.loss==\"bpr\") & (param_search_df.model_name==\"Hybrid_features_comb1_normalized\")].MAP_test\n",
    "plt.plot(x4, y4, label = \"bpr_MAP_test\")\n",
    "plt.legend()\n",
    "plt.show()"
   ]
  },
  {
   "cell_type": "markdown",
   "metadata": {},
   "source": [
    "\n",
    "## Model Evaluation using MAP@K\n",
    "Mean average precision(MAP)@K and AUC score"
   ]
  },
  {
   "cell_type": "code",
   "execution_count": null,
   "metadata": {
    "scrolled": true
   },
   "outputs": [],
   "source": [
    "train_auc = auc_score(pure_cf, train_interactions).mean()\n",
    "test_auc = auc_score(pure_cf, test_interactions).mean()\n",
    "print('AUC: train %.2f, test %.2f.' % (train_auc, test_auc))"
   ]
  },
  {
   "cell_type": "code",
   "execution_count": null,
   "metadata": {},
   "outputs": [],
   "source": [
    "train_precision = precision_at_k(pure_cf, train_interactions, k=10).mean()\n",
    "test_precision = precision_at_k(pure_cf, test_interactions,k=10).mean()\n",
    "print('Precision: train %.2f, test %.2f.' % (train_precision, test_precision))"
   ]
  },
  {
   "cell_type": "code",
   "execution_count": null,
   "metadata": {
    "scrolled": true
   },
   "outputs": [],
   "source": [
    "train_auc = auc_score(hybrid_model, train_interactions, item_features=item_features).mean()\n",
    "test_auc = auc_score(hybrid_model, test_interactions, item_features=item_features).mean()\n",
    "print('AUC: train %.2f, test %.2f.' % (train_auc, test_auc))"
   ]
  },
  {
   "cell_type": "code",
   "execution_count": null,
   "metadata": {},
   "outputs": [],
   "source": [
    "train_precision = precision_at_k(hybrid_model, train_interactions, item_features=item_features, k=10).mean()\n",
    "test_precision = precision_at_k(hybrid_model, test_interactions, item_features=item_features, k=10).mean()\n",
    "print('Precision: train %.2f, test %.2f.' % (train_precision, test_precision))"
   ]
  },
  {
   "cell_type": "markdown",
   "metadata": {},
   "source": [
    "## Make recommendations"
   ]
  },
  {
   "cell_type": "markdown",
   "metadata": {},
   "source": [
    "- get userid/itemid/features mappings"
   ]
  },
  {
   "cell_type": "code",
   "execution_count": null,
   "metadata": {},
   "outputs": [],
   "source": [
    "# set the dataset to the final model dataset\n",
    "dataset = dataset1"
   ]
  },
  {
   "cell_type": "code",
   "execution_count": null,
   "metadata": {},
   "outputs": [],
   "source": [
    "# mappings: (user id map, user feature map, item id map, item feature map)\n",
    "mapping = dataset.mapping()"
   ]
  },
  {
   "cell_type": "code",
   "execution_count": null,
   "metadata": {},
   "outputs": [],
   "source": [
    "item_features_mapping = mapping[3]\n",
    "item_features_mapping"
   ]
  },
  {
   "cell_type": "code",
   "execution_count": null,
   "metadata": {
    "scrolled": true
   },
   "outputs": [],
   "source": [
    "# series used to use index(internal id) to locate the real id\n",
    "user_series = pd.Series(mapping[0])\n",
    "item_series = pd.Series(mapping[2])"
   ]
  },
  {
   "cell_type": "code",
   "execution_count": null,
   "metadata": {},
   "outputs": [],
   "source": [
    "def getInternalId(real_id, series):\n",
    "    return series[real_id]"
   ]
  },
  {
   "cell_type": "code",
   "execution_count": null,
   "metadata": {},
   "outputs": [],
   "source": [
    "def getRawId(internal_id, series):\n",
    "    return series[series == internal_id].index[0]"
   ]
  },
  {
   "cell_type": "code",
   "execution_count": 245,
   "metadata": {},
   "outputs": [
    {
     "ename": "NameError",
     "evalue": "name 'getInternalId' is not defined",
     "output_type": "error",
     "traceback": [
      "\u001b[0;31m---------------------------------------------------------------------------\u001b[0m",
      "\u001b[0;31mNameError\u001b[0m                                 Traceback (most recent call last)",
      "\u001b[0;32m<ipython-input-245-49e628d2a33a>\u001b[0m in \u001b[0;36m<module>\u001b[0;34m\u001b[0m\n\u001b[1;32m      1\u001b[0m \u001b[0;31m# raw id to internal id\u001b[0m\u001b[0;34m\u001b[0m\u001b[0;34m\u001b[0m\u001b[0;34m\u001b[0m\u001b[0m\n\u001b[0;32m----> 2\u001b[0;31m \u001b[0mgetInternalId\u001b[0m\u001b[0;34m(\u001b[0m\u001b[0;36m76561198007712555\u001b[0m\u001b[0;34m,\u001b[0m \u001b[0muser_series\u001b[0m\u001b[0;34m)\u001b[0m\u001b[0;34m\u001b[0m\u001b[0;34m\u001b[0m\u001b[0m\n\u001b[0m",
      "\u001b[0;31mNameError\u001b[0m: name 'getInternalId' is not defined"
     ]
    }
   ],
   "source": [
    "# raw id to internal id\n",
    "getInternalId(76561198007712555, user_series)"
   ]
  },
  {
   "cell_type": "code",
   "execution_count": null,
   "metadata": {
    "scrolled": false
   },
   "outputs": [],
   "source": [
    "getRawId(68398, user_series)"
   ]
  },
  {
   "cell_type": "markdown",
   "metadata": {},
   "source": [
    "- Make recommendations"
   ]
  },
  {
   "cell_type": "code",
   "execution_count": null,
   "metadata": {},
   "outputs": [],
   "source": [
    "# print(\"Train precision: %.2f\" % precision_at_k(pure_cf, data['train'], k=5).mean())\n",
    "# print(\"Test precision: %.2f\" % precision_at_k(pure_cf, data['test'], k=5).mean())"
   ]
  },
  {
   "cell_type": "code",
   "execution_count": null,
   "metadata": {},
   "outputs": [],
   "source": [
    "user_id = 76561197970982479"
   ]
  },
  {
   "cell_type": "code",
   "execution_count": null,
   "metadata": {},
   "outputs": [],
   "source": [
    "n_users, n_items = interactions.shape\n",
    "internal_user_id = getInternalId(user_id, user_series)\n",
    "all_scores = pd.Series(hybrid_model.predict(internal_user_id, np.arange(n_items)))"
   ]
  },
  {
   "cell_type": "code",
   "execution_count": null,
   "metadata": {
    "scrolled": true
   },
   "outputs": [],
   "source": [
    "all_scores"
   ]
  },
  {
   "cell_type": "code",
   "execution_count": null,
   "metadata": {},
   "outputs": [],
   "source": [
    "# scores.index = np.arange(n_items)\n",
    "all_ranks = list(pd.Series(all_scores.sort_values(ascending=False).index))"
   ]
  },
  {
   "cell_type": "code",
   "execution_count": null,
   "metadata": {},
   "outputs": [],
   "source": [
    "all_ranks"
   ]
  },
  {
   "cell_type": "code",
   "execution_count": null,
   "metadata": {},
   "outputs": [],
   "source": [
    "known_items = user_item_df[user_item_df.steam_id == user_id].item_id.sort_values()"
   ]
  },
  {
   "cell_type": "code",
   "execution_count": null,
   "metadata": {},
   "outputs": [],
   "source": [
    "known_items_internal_ids = known_items.apply(getInternalId, args=(item_series,))"
   ]
  },
  {
   "cell_type": "code",
   "execution_count": null,
   "metadata": {},
   "outputs": [],
   "source": [
    "ranks = [x for x in all_ranks if x not in known_items]"
   ]
  },
  {
   "cell_type": "code",
   "execution_count": null,
   "metadata": {},
   "outputs": [],
   "source": [
    "ranks"
   ]
  },
  {
   "cell_type": "code",
   "execution_count": null,
   "metadata": {},
   "outputs": [],
   "source": [
    "recommended_list = ranks[0:10]"
   ]
  },
  {
   "cell_type": "code",
   "execution_count": null,
   "metadata": {
    "scrolled": true
   },
   "outputs": [],
   "source": [
    "recommended_list_ids = [getRawId(id, item_series) for id in recommended_list]"
   ]
  },
  {
   "cell_type": "code",
   "execution_count": null,
   "metadata": {},
   "outputs": [],
   "source": [
    "known_items_names = all_games.loc[all_games['item_id'].isin(known_items)]\n",
    "known_items_names[:10]"
   ]
  },
  {
   "cell_type": "code",
   "execution_count": null,
   "metadata": {},
   "outputs": [],
   "source": [
    "recommended_items_names = all_games.loc[all_games['item_id'].isin(recommended_list_ids)]\n",
    "recommended_items_names"
   ]
  },
  {
   "cell_type": "code",
   "execution_count": null,
   "metadata": {},
   "outputs": [],
   "source": []
  }
 ],
 "metadata": {
  "kernelspec": {
   "display_name": "Python 3",
   "language": "python",
   "name": "python3"
  },
  "language_info": {
   "codemirror_mode": {
    "name": "ipython",
    "version": 3
   },
   "file_extension": ".py",
   "mimetype": "text/x-python",
   "name": "python",
   "nbconvert_exporter": "python",
   "pygments_lexer": "ipython3",
   "version": "3.8.3"
  }
 },
 "nbformat": 4,
 "nbformat_minor": 4
}
