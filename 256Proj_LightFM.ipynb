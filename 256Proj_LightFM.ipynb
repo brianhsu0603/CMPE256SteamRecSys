{
 "cells": [
  {
   "cell_type": "code",
   "execution_count": 170,
   "metadata": {
    "scrolled": true
   },
   "outputs": [],
   "source": [
    "import pandas as pd\n",
    "import numpy as np\n",
    "import time\n",
    "import os.path as path\n",
    "from ast import literal_eval\n",
    "from itertools import product\n",
    "import matplotlib.pyplot as plt"
   ]
  },
  {
   "cell_type": "code",
   "execution_count": 2,
   "metadata": {},
   "outputs": [
    {
     "name": "stderr",
     "output_type": "stream",
     "text": [
      "/Users/sijiazong/opt/anaconda3/lib/python3.8/site-packages/lightfm/_lightfm_fast.py:9: UserWarning: LightFM was compiled without OpenMP support. Only a single thread will be used.\n",
      "  warnings.warn('LightFM was compiled without OpenMP support. '\n"
     ]
    }
   ],
   "source": [
    "from lightfm import LightFM\n",
    "from lightfm.data import Dataset\n",
    "from lightfm.cross_validation import random_train_test_split\n",
    "from lightfm.evaluation import precision_at_k\n",
    "from lightfm.evaluation import auc_score"
   ]
  },
  {
   "cell_type": "markdown",
   "metadata": {},
   "source": [
    "## Prepare datasets(user_item_ratings, game_metadata, game_id_name_pairs)"
   ]
  },
  {
   "cell_type": "markdown",
   "metadata": {},
   "source": [
    "- User item ratings"
   ]
  },
  {
   "cell_type": "code",
   "execution_count": 3,
   "metadata": {},
   "outputs": [
    {
     "data": {
      "text/html": [
       "<div>\n",
       "<style scoped>\n",
       "    .dataframe tbody tr th:only-of-type {\n",
       "        vertical-align: middle;\n",
       "    }\n",
       "\n",
       "    .dataframe tbody tr th {\n",
       "        vertical-align: top;\n",
       "    }\n",
       "\n",
       "    .dataframe thead th {\n",
       "        text-align: right;\n",
       "    }\n",
       "</style>\n",
       "<table border=\"1\" class=\"dataframe\">\n",
       "  <thead>\n",
       "    <tr style=\"text-align: right;\">\n",
       "      <th></th>\n",
       "      <th>steam_id</th>\n",
       "      <th>item_id</th>\n",
       "    </tr>\n",
       "  </thead>\n",
       "  <tbody>\n",
       "    <tr>\n",
       "      <th>0</th>\n",
       "      <td>76561197970982479</td>\n",
       "      <td>10</td>\n",
       "    </tr>\n",
       "    <tr>\n",
       "      <th>1</th>\n",
       "      <td>76561197970982479</td>\n",
       "      <td>30</td>\n",
       "    </tr>\n",
       "    <tr>\n",
       "      <th>2</th>\n",
       "      <td>76561197970982479</td>\n",
       "      <td>300</td>\n",
       "    </tr>\n",
       "    <tr>\n",
       "      <th>3</th>\n",
       "      <td>76561197970982479</td>\n",
       "      <td>240</td>\n",
       "    </tr>\n",
       "    <tr>\n",
       "      <th>4</th>\n",
       "      <td>76561197970982479</td>\n",
       "      <td>3830</td>\n",
       "    </tr>\n",
       "    <tr>\n",
       "      <th>...</th>\n",
       "      <td>...</td>\n",
       "      <td>...</td>\n",
       "    </tr>\n",
       "    <tr>\n",
       "      <th>3246347</th>\n",
       "      <td>76561198329548331</td>\n",
       "      <td>304930</td>\n",
       "    </tr>\n",
       "    <tr>\n",
       "      <th>3246348</th>\n",
       "      <td>76561198329548331</td>\n",
       "      <td>227940</td>\n",
       "    </tr>\n",
       "    <tr>\n",
       "      <th>3246349</th>\n",
       "      <td>76561198329548331</td>\n",
       "      <td>388490</td>\n",
       "    </tr>\n",
       "    <tr>\n",
       "      <th>3246350</th>\n",
       "      <td>76561198329548331</td>\n",
       "      <td>521570</td>\n",
       "    </tr>\n",
       "    <tr>\n",
       "      <th>3246351</th>\n",
       "      <td>76561198329548331</td>\n",
       "      <td>519140</td>\n",
       "    </tr>\n",
       "  </tbody>\n",
       "</table>\n",
       "<p>3246352 rows × 2 columns</p>\n",
       "</div>"
      ],
      "text/plain": [
       "                  steam_id  item_id\n",
       "0        76561197970982479       10\n",
       "1        76561197970982479       30\n",
       "2        76561197970982479      300\n",
       "3        76561197970982479      240\n",
       "4        76561197970982479     3830\n",
       "...                    ...      ...\n",
       "3246347  76561198329548331   304930\n",
       "3246348  76561198329548331   227940\n",
       "3246349  76561198329548331   388490\n",
       "3246350  76561198329548331   521570\n",
       "3246351  76561198329548331   519140\n",
       "\n",
       "[3246352 rows x 2 columns]"
      ]
     },
     "execution_count": 3,
     "metadata": {},
     "output_type": "execute_result"
    }
   ],
   "source": [
    "user_item_df = pd.read_csv(\"user_item_played_pair.csv\")\n",
    "user_item_df"
   ]
  },
  {
   "cell_type": "code",
   "execution_count": 4,
   "metadata": {},
   "outputs": [
    {
     "data": {
      "text/html": [
       "<div>\n",
       "<style scoped>\n",
       "    .dataframe tbody tr th:only-of-type {\n",
       "        vertical-align: middle;\n",
       "    }\n",
       "\n",
       "    .dataframe tbody tr th {\n",
       "        vertical-align: top;\n",
       "    }\n",
       "\n",
       "    .dataframe thead th {\n",
       "        text-align: right;\n",
       "    }\n",
       "</style>\n",
       "<table border=\"1\" class=\"dataframe\">\n",
       "  <thead>\n",
       "    <tr style=\"text-align: right;\">\n",
       "      <th></th>\n",
       "      <th>steam_id</th>\n",
       "      <th>item_id</th>\n",
       "    </tr>\n",
       "  </thead>\n",
       "  <tbody>\n",
       "  </tbody>\n",
       "</table>\n",
       "</div>"
      ],
      "text/plain": [
       "Empty DataFrame\n",
       "Columns: [steam_id, item_id]\n",
       "Index: []"
      ]
     },
     "execution_count": 4,
     "metadata": {},
     "output_type": "execute_result"
    }
   ],
   "source": [
    "user_item_df[user_item_df.steam_id==317160]"
   ]
  },
  {
   "cell_type": "code",
   "execution_count": 5,
   "metadata": {},
   "outputs": [
    {
     "data": {
      "text/html": [
       "<div>\n",
       "<style scoped>\n",
       "    .dataframe tbody tr th:only-of-type {\n",
       "        vertical-align: middle;\n",
       "    }\n",
       "\n",
       "    .dataframe tbody tr th {\n",
       "        vertical-align: top;\n",
       "    }\n",
       "\n",
       "    .dataframe thead th {\n",
       "        text-align: right;\n",
       "    }\n",
       "</style>\n",
       "<table border=\"1\" class=\"dataframe\">\n",
       "  <thead>\n",
       "    <tr style=\"text-align: right;\">\n",
       "      <th></th>\n",
       "      <th>steam_id</th>\n",
       "      <th>item_id</th>\n",
       "    </tr>\n",
       "  </thead>\n",
       "  <tbody>\n",
       "  </tbody>\n",
       "</table>\n",
       "</div>"
      ],
      "text/plain": [
       "Empty DataFrame\n",
       "Columns: [steam_id, item_id]\n",
       "Index: []"
      ]
     },
     "execution_count": 5,
     "metadata": {},
     "output_type": "execute_result"
    }
   ],
   "source": [
    "user_item_df[user_item_df.item_id==317160]"
   ]
  },
  {
   "cell_type": "code",
   "execution_count": 6,
   "metadata": {
    "scrolled": true
   },
   "outputs": [],
   "source": [
    "num_users = user_item_df.steam_id.nunique()"
   ]
  },
  {
   "cell_type": "code",
   "execution_count": 7,
   "metadata": {},
   "outputs": [],
   "source": [
    "num_items = user_item_df.item_id.nunique()"
   ]
  },
  {
   "cell_type": "code",
   "execution_count": 8,
   "metadata": {
    "scrolled": false
   },
   "outputs": [
    {
     "name": "stdout",
     "output_type": "stream",
     "text": [
      "There are 68403 steam users and 10050 games.\n"
     ]
    }
   ],
   "source": [
    "print('There are {} steam users and {} games.'.format(num_users, num_items))"
   ]
  },
  {
   "cell_type": "markdown",
   "metadata": {},
   "source": [
    "- Games Metadata"
   ]
  },
  {
   "cell_type": "code",
   "execution_count": 9,
   "metadata": {
    "scrolled": true
   },
   "outputs": [],
   "source": [
    "games = pd.read_csv(\"games_metadata.csv\")"
   ]
  },
  {
   "cell_type": "code",
   "execution_count": 10,
   "metadata": {},
   "outputs": [
    {
     "data": {
      "text/plain": [
       "4.99      4278\n",
       "9.99      3902\n",
       "2.99      3429\n",
       "0.99      2607\n",
       "1.99      2541\n",
       "          ... \n",
       "109.99       1\n",
       "10.49        1\n",
       "771.71       1\n",
       "179.00       1\n",
       "41.99        1\n",
       "Name: price, Length: 145, dtype: int64"
      ]
     },
     "execution_count": 10,
     "metadata": {},
     "output_type": "execute_result"
    }
   ],
   "source": [
    "games.price.value_counts()"
   ]
  },
  {
   "cell_type": "code",
   "execution_count": 11,
   "metadata": {},
   "outputs": [],
   "source": [
    "# create feature for game price category\n",
    "bins = [-1, 0, 10, 60, 1000]\n",
    "labels= ['Free', 'Low', 'Midum', 'High']\n",
    "games['price_category'] = pd.cut(games['price'], bins=bins, labels=labels)"
   ]
  },
  {
   "cell_type": "code",
   "execution_count": 12,
   "metadata": {
    "scrolled": true
   },
   "outputs": [
    {
     "data": {
      "text/plain": [
       "<matplotlib.axes._subplots.AxesSubplot at 0x7fb0750ff8e0>"
      ]
     },
     "execution_count": 12,
     "metadata": {},
     "output_type": "execute_result"
    },
    {
     "data": {
      "image/png": "[encoded data removed]",
      "text/plain": [
       "<Figure size 432x288 with 1 Axes>"
      ]
     },
     "metadata": {
      "needs_background": "light"
     },
     "output_type": "display_data"
    }
   ],
   "source": [
    "pd.value_counts(games['price_category']).plot(kind=\"bar\")"
   ]
  },
  {
   "cell_type": "code",
   "execution_count": 13,
   "metadata": {},
   "outputs": [],
   "source": [
    "# create feature for game release year\n",
    "games['release_year'] = games['release_date'].apply(lambda s: pd.to_datetime(s, errors='coerce').year)"
   ]
  },
  {
   "cell_type": "code",
   "execution_count": 14,
   "metadata": {},
   "outputs": [
    {
     "name": "stdout",
     "output_type": "stream",
     "text": [
      "<class 'pandas.core.frame.DataFrame'>\n",
      "RangeIndex: 32131 entries, 0 to 32130\n",
      "Data columns (total 18 columns):\n",
      " #   Column          Non-Null Count  Dtype   \n",
      "---  ------          --------------  -----   \n",
      " 0   publisher       24071 non-null  object  \n",
      " 1   genres          28849 non-null  object  \n",
      " 2   app_name        32131 non-null  object  \n",
      " 3   title           30083 non-null  object  \n",
      " 4   url             32131 non-null  object  \n",
      " 5   release_date    30065 non-null  object  \n",
      " 6   tags            31969 non-null  object  \n",
      " 7   discount_price  224 non-null    float64 \n",
      " 8   reviews_url     32131 non-null  object  \n",
      " 9   specs           31462 non-null  object  \n",
      " 10  price           30747 non-null  float64 \n",
      " 11  early_access    32131 non-null  bool    \n",
      " 12  id              32131 non-null  int64   \n",
      " 13  developer       28834 non-null  object  \n",
      " 14  sentiment       24950 non-null  object  \n",
      " 15  metascore       2605 non-null   float64 \n",
      " 16  price_category  30747 non-null  category\n",
      " 17  release_year    29891 non-null  float64 \n",
      "dtypes: bool(1), category(1), float64(4), int64(1), object(11)\n",
      "memory usage: 4.0+ MB\n"
     ]
    }
   ],
   "source": [
    "games.info()"
   ]
  },
  {
   "cell_type": "markdown",
   "metadata": {},
   "source": [
    "29529 out of 32133 na values, not using metascore."
   ]
  },
  {
   "cell_type": "markdown",
   "metadata": {},
   "source": [
    "- All game id/name pair in both metadata/useritem pair"
   ]
  },
  {
   "cell_type": "code",
   "execution_count": 15,
   "metadata": {},
   "outputs": [],
   "source": [
    "all_games = pd.read_csv(\"all_games_id_name_pair.csv\")"
   ]
  },
  {
   "cell_type": "code",
   "execution_count": 16,
   "metadata": {},
   "outputs": [
    {
     "data": {
      "text/html": [
       "<div>\n",
       "<style scoped>\n",
       "    .dataframe tbody tr th:only-of-type {\n",
       "        vertical-align: middle;\n",
       "    }\n",
       "\n",
       "    .dataframe tbody tr th {\n",
       "        vertical-align: top;\n",
       "    }\n",
       "\n",
       "    .dataframe thead th {\n",
       "        text-align: right;\n",
       "    }\n",
       "</style>\n",
       "<table border=\"1\" class=\"dataframe\">\n",
       "  <thead>\n",
       "    <tr style=\"text-align: right;\">\n",
       "      <th></th>\n",
       "      <th>publisher</th>\n",
       "      <th>genres</th>\n",
       "      <th>app_name</th>\n",
       "      <th>title</th>\n",
       "      <th>url</th>\n",
       "      <th>release_date</th>\n",
       "      <th>tags</th>\n",
       "      <th>discount_price</th>\n",
       "      <th>reviews_url</th>\n",
       "      <th>specs</th>\n",
       "      <th>price</th>\n",
       "      <th>early_access</th>\n",
       "      <th>id</th>\n",
       "      <th>developer</th>\n",
       "      <th>sentiment</th>\n",
       "      <th>metascore</th>\n",
       "      <th>price_category</th>\n",
       "      <th>release_year</th>\n",
       "    </tr>\n",
       "  </thead>\n",
       "  <tbody>\n",
       "  </tbody>\n",
       "</table>\n",
       "</div>"
      ],
      "text/plain": [
       "Empty DataFrame\n",
       "Columns: [publisher, genres, app_name, title, url, release_date, tags, discount_price, reviews_url, specs, price, early_access, id, developer, sentiment, metascore, price_category, release_year]\n",
       "Index: []"
      ]
     },
     "execution_count": 16,
     "metadata": {},
     "output_type": "execute_result"
    }
   ],
   "source": [
    "games[games.id == 317160]"
   ]
  },
  {
   "cell_type": "code",
   "execution_count": 17,
   "metadata": {
    "scrolled": true
   },
   "outputs": [
    {
     "data": {
      "text/html": [
       "<div>\n",
       "<style scoped>\n",
       "    .dataframe tbody tr th:only-of-type {\n",
       "        vertical-align: middle;\n",
       "    }\n",
       "\n",
       "    .dataframe tbody tr th {\n",
       "        vertical-align: top;\n",
       "    }\n",
       "\n",
       "    .dataframe thead th {\n",
       "        text-align: right;\n",
       "    }\n",
       "</style>\n",
       "<table border=\"1\" class=\"dataframe\">\n",
       "  <thead>\n",
       "    <tr style=\"text-align: right;\">\n",
       "      <th></th>\n",
       "      <th>item_id</th>\n",
       "      <th>item_name</th>\n",
       "    </tr>\n",
       "  </thead>\n",
       "  <tbody>\n",
       "  </tbody>\n",
       "</table>\n",
       "</div>"
      ],
      "text/plain": [
       "Empty DataFrame\n",
       "Columns: [item_id, item_name]\n",
       "Index: []"
      ]
     },
     "execution_count": 17,
     "metadata": {},
     "output_type": "execute_result"
    }
   ],
   "source": [
    "all_games[all_games.item_id == 317160]"
   ]
  },
  {
   "cell_type": "markdown",
   "metadata": {},
   "source": [
    "## Building functions to generate item features data"
   ]
  },
  {
   "cell_type": "code",
   "execution_count": 18,
   "metadata": {
    "scrolled": true
   },
   "outputs": [
    {
     "data": {
      "text/html": [
       "<div>\n",
       "<style scoped>\n",
       "    .dataframe tbody tr th:only-of-type {\n",
       "        vertical-align: middle;\n",
       "    }\n",
       "\n",
       "    .dataframe tbody tr th {\n",
       "        vertical-align: top;\n",
       "    }\n",
       "\n",
       "    .dataframe thead th {\n",
       "        text-align: right;\n",
       "    }\n",
       "</style>\n",
       "<table border=\"1\" class=\"dataframe\">\n",
       "  <thead>\n",
       "    <tr style=\"text-align: right;\">\n",
       "      <th></th>\n",
       "      <th>publisher</th>\n",
       "      <th>genres</th>\n",
       "      <th>tags</th>\n",
       "      <th>specs</th>\n",
       "      <th>price</th>\n",
       "      <th>developer</th>\n",
       "      <th>release_year</th>\n",
       "    </tr>\n",
       "  </thead>\n",
       "  <tbody>\n",
       "    <tr>\n",
       "      <th>0</th>\n",
       "      <td>Kotoshiro</td>\n",
       "      <td>['Action', 'Casual', 'Indie', 'Simulation', 'S...</td>\n",
       "      <td>['Strategy', 'Action', 'Indie', 'Casual', 'Sim...</td>\n",
       "      <td>['Single-player']</td>\n",
       "      <td>4.99</td>\n",
       "      <td>Kotoshiro</td>\n",
       "      <td>2018.0</td>\n",
       "    </tr>\n",
       "    <tr>\n",
       "      <th>1</th>\n",
       "      <td>Making Fun, Inc.</td>\n",
       "      <td>['Free to Play', 'Indie', 'RPG', 'Strategy']</td>\n",
       "      <td>['Free to Play', 'Strategy', 'Indie', 'RPG', '...</td>\n",
       "      <td>['Single-player', 'Multi-player', 'Online Mult...</td>\n",
       "      <td>0.00</td>\n",
       "      <td>Secret Level SRL</td>\n",
       "      <td>2018.0</td>\n",
       "    </tr>\n",
       "    <tr>\n",
       "      <th>2</th>\n",
       "      <td>Poolians.com</td>\n",
       "      <td>['Casual', 'Free to Play', 'Indie', 'Simulatio...</td>\n",
       "      <td>['Free to Play', 'Simulation', 'Sports', 'Casu...</td>\n",
       "      <td>['Single-player', 'Multi-player', 'Online Mult...</td>\n",
       "      <td>0.00</td>\n",
       "      <td>Poolians.com</td>\n",
       "      <td>2017.0</td>\n",
       "    </tr>\n",
       "    <tr>\n",
       "      <th>3</th>\n",
       "      <td>彼岸领域</td>\n",
       "      <td>['Action', 'Adventure', 'Casual']</td>\n",
       "      <td>['Action', 'Adventure', 'Casual']</td>\n",
       "      <td>['Single-player']</td>\n",
       "      <td>0.99</td>\n",
       "      <td>彼岸领域</td>\n",
       "      <td>2017.0</td>\n",
       "    </tr>\n",
       "    <tr>\n",
       "      <th>4</th>\n",
       "      <td>NaN</td>\n",
       "      <td>NaN</td>\n",
       "      <td>['Action', 'Indie', 'Casual', 'Sports']</td>\n",
       "      <td>['Single-player', 'Full controller support', '...</td>\n",
       "      <td>2.99</td>\n",
       "      <td>NaN</td>\n",
       "      <td>NaN</td>\n",
       "    </tr>\n",
       "    <tr>\n",
       "      <th>...</th>\n",
       "      <td>...</td>\n",
       "      <td>...</td>\n",
       "      <td>...</td>\n",
       "      <td>...</td>\n",
       "      <td>...</td>\n",
       "      <td>...</td>\n",
       "      <td>...</td>\n",
       "    </tr>\n",
       "    <tr>\n",
       "      <th>32126</th>\n",
       "      <td>Ghost_RUS Games</td>\n",
       "      <td>['Casual', 'Indie', 'Simulation', 'Strategy']</td>\n",
       "      <td>['Strategy', 'Indie', 'Casual', 'Simulation']</td>\n",
       "      <td>['Single-player', 'Steam Achievements']</td>\n",
       "      <td>1.99</td>\n",
       "      <td>Nikita \"Ghost_RUS\"</td>\n",
       "      <td>2018.0</td>\n",
       "    </tr>\n",
       "    <tr>\n",
       "      <th>32127</th>\n",
       "      <td>Sacada</td>\n",
       "      <td>['Casual', 'Indie', 'Strategy']</td>\n",
       "      <td>['Strategy', 'Indie', 'Casual']</td>\n",
       "      <td>['Single-player', 'Steam Achievements', 'Steam...</td>\n",
       "      <td>4.99</td>\n",
       "      <td>Sacada</td>\n",
       "      <td>2018.0</td>\n",
       "    </tr>\n",
       "    <tr>\n",
       "      <th>32128</th>\n",
       "      <td>Laush Studio</td>\n",
       "      <td>['Indie', 'Racing', 'Simulation']</td>\n",
       "      <td>['Indie', 'Simulation', 'Racing']</td>\n",
       "      <td>['Single-player', 'Steam Achievements', 'Steam...</td>\n",
       "      <td>1.99</td>\n",
       "      <td>Laush Dmitriy Sergeevich</td>\n",
       "      <td>2018.0</td>\n",
       "    </tr>\n",
       "    <tr>\n",
       "      <th>32129</th>\n",
       "      <td>SIXNAILS</td>\n",
       "      <td>['Casual', 'Indie']</td>\n",
       "      <td>['Indie', 'Casual', 'Puzzle', 'Singleplayer', ...</td>\n",
       "      <td>['Single-player', 'Steam Achievements', 'Steam...</td>\n",
       "      <td>4.99</td>\n",
       "      <td>xropi,stev3ns</td>\n",
       "      <td>2017.0</td>\n",
       "    </tr>\n",
       "    <tr>\n",
       "      <th>32130</th>\n",
       "      <td>NaN</td>\n",
       "      <td>NaN</td>\n",
       "      <td>['Early Access', 'Adventure', 'Indie', 'Action...</td>\n",
       "      <td>['Single-player', 'Stats', 'Steam Leaderboards...</td>\n",
       "      <td>4.99</td>\n",
       "      <td>NaN</td>\n",
       "      <td>NaN</td>\n",
       "    </tr>\n",
       "  </tbody>\n",
       "</table>\n",
       "<p>32131 rows × 7 columns</p>\n",
       "</div>"
      ],
      "text/plain": [
       "              publisher                                             genres  \\\n",
       "0             Kotoshiro  ['Action', 'Casual', 'Indie', 'Simulation', 'S...   \n",
       "1      Making Fun, Inc.       ['Free to Play', 'Indie', 'RPG', 'Strategy']   \n",
       "2          Poolians.com  ['Casual', 'Free to Play', 'Indie', 'Simulatio...   \n",
       "3                  彼岸领域                  ['Action', 'Adventure', 'Casual']   \n",
       "4                   NaN                                                NaN   \n",
       "...                 ...                                                ...   \n",
       "32126   Ghost_RUS Games      ['Casual', 'Indie', 'Simulation', 'Strategy']   \n",
       "32127            Sacada                    ['Casual', 'Indie', 'Strategy']   \n",
       "32128      Laush Studio                  ['Indie', 'Racing', 'Simulation']   \n",
       "32129          SIXNAILS                                ['Casual', 'Indie']   \n",
       "32130               NaN                                                NaN   \n",
       "\n",
       "                                                    tags  \\\n",
       "0      ['Strategy', 'Action', 'Indie', 'Casual', 'Sim...   \n",
       "1      ['Free to Play', 'Strategy', 'Indie', 'RPG', '...   \n",
       "2      ['Free to Play', 'Simulation', 'Sports', 'Casu...   \n",
       "3                      ['Action', 'Adventure', 'Casual']   \n",
       "4                ['Action', 'Indie', 'Casual', 'Sports']   \n",
       "...                                                  ...   \n",
       "32126      ['Strategy', 'Indie', 'Casual', 'Simulation']   \n",
       "32127                    ['Strategy', 'Indie', 'Casual']   \n",
       "32128                  ['Indie', 'Simulation', 'Racing']   \n",
       "32129  ['Indie', 'Casual', 'Puzzle', 'Singleplayer', ...   \n",
       "32130  ['Early Access', 'Adventure', 'Indie', 'Action...   \n",
       "\n",
       "                                                   specs  price  \\\n",
       "0                                      ['Single-player']   4.99   \n",
       "1      ['Single-player', 'Multi-player', 'Online Mult...   0.00   \n",
       "2      ['Single-player', 'Multi-player', 'Online Mult...   0.00   \n",
       "3                                      ['Single-player']   0.99   \n",
       "4      ['Single-player', 'Full controller support', '...   2.99   \n",
       "...                                                  ...    ...   \n",
       "32126            ['Single-player', 'Steam Achievements']   1.99   \n",
       "32127  ['Single-player', 'Steam Achievements', 'Steam...   4.99   \n",
       "32128  ['Single-player', 'Steam Achievements', 'Steam...   1.99   \n",
       "32129  ['Single-player', 'Steam Achievements', 'Steam...   4.99   \n",
       "32130  ['Single-player', 'Stats', 'Steam Leaderboards...   4.99   \n",
       "\n",
       "                      developer  release_year  \n",
       "0                     Kotoshiro        2018.0  \n",
       "1              Secret Level SRL        2018.0  \n",
       "2                  Poolians.com        2017.0  \n",
       "3                          彼岸领域        2017.0  \n",
       "4                           NaN           NaN  \n",
       "...                         ...           ...  \n",
       "32126        Nikita \"Ghost_RUS\"        2018.0  \n",
       "32127                    Sacada        2018.0  \n",
       "32128  Laush Dmitriy Sergeevich        2018.0  \n",
       "32129             xropi,stev3ns        2017.0  \n",
       "32130                       NaN           NaN  \n",
       "\n",
       "[32131 rows x 7 columns]"
      ]
     },
     "execution_count": 18,
     "metadata": {},
     "output_type": "execute_result"
    }
   ],
   "source": [
    "games[['publisher', 'genres', 'tags', 'specs', 'price', 'developer', 'release_year']]"
   ]
  },
  {
   "cell_type": "code",
   "execution_count": 19,
   "metadata": {},
   "outputs": [],
   "source": [
    "# price_category: 4\n",
    "# specs: 40\n",
    "# genres: 22\n",
    "# tags: 339\n",
    "# genres + specs: 62(genres and specs are uniquely different)\n",
    "# genres + tags: 342(a lot of tags are in genres)\n",
    "# release_year"
   ]
  },
  {
   "cell_type": "code",
   "execution_count": 180,
   "metadata": {},
   "outputs": [],
   "source": [
    "item_features_cols = ['genres']\n",
    "# ['publisher', 'genres', 'tags', 'specs', 'price', 'developer', 'release_year']"
   ]
  },
  {
   "cell_type": "code",
   "execution_count": 181,
   "metadata": {
    "scrolled": true
   },
   "outputs": [],
   "source": [
    "def build_game_features_list(item_features_cols):\n",
    "    total_features = set()\n",
    "    game_features_list = []\n",
    "    for row in games.itertuples(index=False):\n",
    "        features = set()\n",
    "        for col in item_features_cols:\n",
    "            val = getattr(row, col)\n",
    "            if pd.isnull(val):\n",
    "                continue\n",
    "            if col in {\"genres\", \"tags\", \"specs\"}:\n",
    "                features.update(literal_eval(val))\n",
    "            else:\n",
    "                features.add(val)\n",
    "        game_features_list.append(list(features))\n",
    "        total_features.update(features)\n",
    "    return game_features_list, list(total_features)"
   ]
  },
  {
   "cell_type": "code",
   "execution_count": 182,
   "metadata": {},
   "outputs": [],
   "source": [
    "game_features_list, total_features = build_game_features_list(item_features_cols)"
   ]
  },
  {
   "cell_type": "code",
   "execution_count": 183,
   "metadata": {},
   "outputs": [
    {
     "name": "stdout",
     "output_type": "stream",
     "text": [
      "['Design &amp; Illustration', 'Photo Editing', 'Simulation', 'RPG', 'Casual', 'Free to Play', 'Adventure', 'Racing', 'Utilities', 'Web Publishing', 'Action', 'Video Production', 'Software Training', 'Animation &amp; Modeling', 'Strategy', 'Massively Multiplayer', 'Sports', 'Accounting', 'Indie', 'Education', 'Early Access', 'Audio Production']\n"
     ]
    }
   ],
   "source": [
    "print(total_features)"
   ]
  },
  {
   "cell_type": "code",
   "execution_count": null,
   "metadata": {},
   "outputs": [],
   "source": [
    "def getGameFeaturesData(item_features_cols):\n",
    "    game_features_list, total_features = build_game_features_list(item_features_cols)\n",
    "    game_tuple = list(zip(games.id, game_features_list))\n",
    "    return (total_features, game_tuple)"
   ]
  },
  {
   "cell_type": "code",
   "execution_count": 184,
   "metadata": {
    "scrolled": false
   },
   "outputs": [
    {
     "data": {
      "text/plain": [
       "22"
      ]
     },
     "execution_count": 184,
     "metadata": {},
     "output_type": "execute_result"
    }
   ],
   "source": [
    "total_features, game_tuple = getGameFeaturesData(item_features_cols)"
   ]
  },
  {
   "cell_type": "code",
   "execution_count": null,
   "metadata": {},
   "outputs": [],
   "source": [
    "print(len(total_features), total_features)"
   ]
  },
  {
   "cell_type": "markdown",
   "metadata": {},
   "source": [
    "## Building lightFM model"
   ]
  },
  {
   "cell_type": "markdown",
   "metadata": {},
   "source": [
    "### 1. Building dataset, interactions matrix and raw/internal id mapping"
   ]
  },
  {
   "cell_type": "markdown",
   "metadata": {},
   "source": [
    "dataset1 - pure CF dataset, dataset2 - Hybrid, add item features, need to rebuild dataset2 if selected feature changes"
   ]
  },
  {
   "cell_type": "markdown",
   "metadata": {},
   "source": [
    "**PureCF(Only Collaborative Filtering)**"
   ]
  },
  {
   "cell_type": "markdown",
   "metadata": {},
   "source": [
    "- build dataset"
   ]
  },
  {
   "cell_type": "code",
   "execution_count": 28,
   "metadata": {},
   "outputs": [],
   "source": [
    "dataset1 = Dataset()\n",
    "dataset1.fit(user_item_df['steam_id'].unique(), # all the steam users\n",
    "            all_games[\"item_id\"],)"
   ]
  },
  {
   "cell_type": "markdown",
   "metadata": {},
   "source": [
    "- build interaction matrix"
   ]
  },
  {
   "cell_type": "code",
   "execution_count": 30,
   "metadata": {},
   "outputs": [],
   "source": [
    "# add weight with ratings\n",
    "(interactions1, weights1) = dataset1.build_interactions([(x[0], x[1]) for x in user_item_df.values])"
   ]
  },
  {
   "cell_type": "code",
   "execution_count": 31,
   "metadata": {},
   "outputs": [
    {
     "data": {
      "text/plain": [
       "(68403, 33917)"
      ]
     },
     "execution_count": 31,
     "metadata": {},
     "output_type": "execute_result"
    }
   ],
   "source": [
    "# (68403, 33917) for user and item\n",
    "interactions1.shape"
   ]
  },
  {
   "cell_type": "markdown",
   "metadata": {},
   "source": [
    "**Hybrid(Collaborative Filtering with item features)**"
   ]
  },
  {
   "cell_type": "markdown",
   "metadata": {},
   "source": [
    "- select features and generate features data"
   ]
  },
  {
   "cell_type": "code",
   "execution_count": 180,
   "metadata": {},
   "outputs": [],
   "source": [
    "item_features_cols = ['genres']\n",
    "# ['publisher', 'genres', 'tags', 'specs', 'price', 'developer', 'release_year']"
   ]
  },
  {
   "cell_type": "code",
   "execution_count": 184,
   "metadata": {
    "scrolled": false
   },
   "outputs": [
    {
     "data": {
      "text/plain": [
       "22"
      ]
     },
     "execution_count": 184,
     "metadata": {},
     "output_type": "execute_result"
    }
   ],
   "source": [
    "total_features, game_tuple = getGameFeaturesData(item_features_cols)"
   ]
  },
  {
   "cell_type": "markdown",
   "metadata": {},
   "source": [
    "- build dataset"
   ]
  },
  {
   "cell_type": "code",
   "execution_count": 188,
   "metadata": {},
   "outputs": [],
   "source": [
    "dataset2 = Dataset()\n",
    "dataset2.fit(user_item_df['steam_id'].unique(), # all the steam users\n",
    "            all_games[\"item_id\"], # all steam games\n",
    "            item_features=total_features)"
   ]
  },
  {
   "cell_type": "markdown",
   "metadata": {},
   "source": [
    "- build interaction matrix"
   ]
  },
  {
   "cell_type": "code",
   "execution_count": 189,
   "metadata": {},
   "outputs": [],
   "source": [
    "(interactions2, weights2) = dataset2.build_interactions([(x[0], x[1]) for x in user_item_df.values])"
   ]
  },
  {
   "cell_type": "code",
   "execution_count": 190,
   "metadata": {
    "scrolled": true
   },
   "outputs": [
    {
     "data": {
      "text/plain": [
       "(68403, 33917)"
      ]
     },
     "execution_count": 190,
     "metadata": {},
     "output_type": "execute_result"
    }
   ],
   "source": [
    "interactions2.shape"
   ]
  },
  {
   "cell_type": "markdown",
   "metadata": {},
   "source": [
    "- build item features"
   ]
  },
  {
   "cell_type": "code",
   "execution_count": 192,
   "metadata": {},
   "outputs": [
    {
     "data": {
      "text/plain": [
       "(33917, 33939)"
      ]
     },
     "execution_count": 192,
     "metadata": {},
     "output_type": "execute_result"
    }
   ],
   "source": [
    "item_features = dataset2.build_item_features(game_tuple, normalize= False)\n",
    "item_features.todense().shape"
   ]
  },
  {
   "cell_type": "code",
   "execution_count": 193,
   "metadata": {
    "scrolled": true
   },
   "outputs": [
    {
     "data": {
      "text/plain": [
       "(33917, 33917)"
      ]
     },
     "execution_count": 193,
     "metadata": {},
     "output_type": "execute_result"
    }
   ],
   "source": [
    "dataset1.item_features_shape()"
   ]
  },
  {
   "cell_type": "code",
   "execution_count": 194,
   "metadata": {
    "scrolled": true
   },
   "outputs": [
    {
     "data": {
      "text/plain": [
       "(33917, 33939)"
      ]
     },
     "execution_count": 194,
     "metadata": {},
     "output_type": "execute_result"
    }
   ],
   "source": [
    "dataset2.item_features_shape()"
   ]
  },
  {
   "cell_type": "markdown",
   "metadata": {},
   "source": [
    "- normalized with feature\n",
    "- build dataset"
   ]
  },
  {
   "cell_type": "code",
   "execution_count": 206,
   "metadata": {},
   "outputs": [],
   "source": [
    "dataset3 = Dataset()\n",
    "dataset3.fit(user_item_df['steam_id'].unique(), # all the steam users\n",
    "            all_games[\"item_id\"], # all steam games\n",
    "            item_features=total_features)"
   ]
  },
  {
   "cell_type": "markdown",
   "metadata": {},
   "source": [
    "- build interaction matrix"
   ]
  },
  {
   "cell_type": "code",
   "execution_count": 207,
   "metadata": {},
   "outputs": [],
   "source": [
    "(interactions3, weights3) = dataset3.build_interactions([(x[0], x[1]) for x in user_item_df.values])"
   ]
  },
  {
   "cell_type": "code",
   "execution_count": 208,
   "metadata": {
    "scrolled": true
   },
   "outputs": [
    {
     "data": {
      "text/plain": [
       "(68403, 33917)"
      ]
     },
     "execution_count": 208,
     "metadata": {},
     "output_type": "execute_result"
    }
   ],
   "source": [
    "interactions3.shape"
   ]
  },
  {
   "cell_type": "markdown",
   "metadata": {},
   "source": [
    "- build item features"
   ]
  },
  {
   "cell_type": "code",
   "execution_count": 209,
   "metadata": {},
   "outputs": [
    {
     "data": {
      "text/plain": [
       "(33917, 33939)"
      ]
     },
     "execution_count": 209,
     "metadata": {},
     "output_type": "execute_result"
    }
   ],
   "source": [
    "item_features2 = dataset3.build_item_features(game_tuple, normalize= True)\n",
    "item_features2.todense().shape"
   ]
  },
  {
   "cell_type": "code",
   "execution_count": 210,
   "metadata": {
    "scrolled": true
   },
   "outputs": [
    {
     "data": {
      "text/plain": [
       "(33917, 33939)"
      ]
     },
     "execution_count": 210,
     "metadata": {},
     "output_type": "execute_result"
    }
   ],
   "source": [
    "dataset3.item_features_shape()"
   ]
  },
  {
   "cell_type": "code",
   "execution_count": 211,
   "metadata": {
    "scrolled": true
   },
   "outputs": [
    {
     "data": {
      "text/plain": [
       "(33917, 33917)"
      ]
     },
     "execution_count": 211,
     "metadata": {},
     "output_type": "execute_result"
    }
   ],
   "source": [
    "dataset1.item_features_shape()"
   ]
  },
  {
   "cell_type": "markdown",
   "metadata": {},
   "source": [
    "### 2. Train Test Split"
   ]
  },
  {
   "cell_type": "markdown",
   "metadata": {},
   "source": [
    "- PureCF"
   ]
  },
  {
   "cell_type": "code",
   "execution_count": 36,
   "metadata": {},
   "outputs": [],
   "source": [
    "train_interactions1, test_interactions1 = random_train_test_split(interactions1, test_percentage=0.2, random_state=np.random.RandomState(3))\n",
    "train_weights1, test_weights1 = random_train_test_split(weights1, test_percentage=0.2, random_state=np.random.RandomState(3))"
   ]
  },
  {
   "cell_type": "markdown",
   "metadata": {},
   "source": [
    "- Hybrid"
   ]
  },
  {
   "cell_type": "code",
   "execution_count": 195,
   "metadata": {},
   "outputs": [],
   "source": [
    "train_interactions2, test_interactions2 = random_train_test_split(interactions2, test_percentage=0.2, random_state=np.random.RandomState(3))\n",
    "train_weights2, test_weights2 = random_train_test_split(weights2, test_percentage=0.2, random_state=np.random.RandomState(3))"
   ]
  },
  {
   "cell_type": "code",
   "execution_count": 203,
   "metadata": {},
   "outputs": [],
   "source": [
    "train_interactions3, test_interactions3 = random_train_test_split(interactions3, test_percentage=0.2, random_state=np.random.RandomState(3))\n",
    "train_weights3, test_weights3 = random_train_test_split(weights3, test_percentage=0.2, random_state=np.random.RandomState(3))"
   ]
  },
  {
   "cell_type": "markdown",
   "metadata": {},
   "source": [
    "### 3. Build and fit model in Hyperparameter Search"
   ]
  },
  {
   "cell_type": "markdown",
   "metadata": {},
   "source": [
    "- Hyperparameter Search code is adapted from https://github.com/bcc008/ucsd-dse-capstone-c4g4/blob/master/notebooks/hyperparameter_search.ipynb\n",
    "- Save all hyperparameter search csv results into csv for later comparision"
   ]
  },
  {
   "cell_type": "code",
   "execution_count": 158,
   "metadata": {},
   "outputs": [],
   "source": [
    "# read hyperparameter search csv\n",
    "if path.exists('lightfm_param_search.csv'):\n",
    "   param_search_df = pd.read_csv('lightfm_param_search.csv')\n",
    "else:\n",
    "   param_search_df = pd.DataFrame()"
   ]
  },
  {
   "cell_type": "code",
   "execution_count": 204,
   "metadata": {},
   "outputs": [
    {
     "data": {
      "text/html": [
       "<div>\n",
       "<style scoped>\n",
       "    .dataframe tbody tr th:only-of-type {\n",
       "        vertical-align: middle;\n",
       "    }\n",
       "\n",
       "    .dataframe tbody tr th {\n",
       "        vertical-align: top;\n",
       "    }\n",
       "\n",
       "    .dataframe thead th {\n",
       "        text-align: right;\n",
       "    }\n",
       "</style>\n",
       "<table border=\"1\" class=\"dataframe\">\n",
       "  <thead>\n",
       "    <tr style=\"text-align: right;\">\n",
       "      <th></th>\n",
       "      <th>@K</th>\n",
       "      <th>MAP_test</th>\n",
       "      <th>MAP_train</th>\n",
       "      <th>auc_test</th>\n",
       "      <th>auc_train</th>\n",
       "      <th>epochs</th>\n",
       "      <th>epsilon</th>\n",
       "      <th>item_alpha</th>\n",
       "      <th>k</th>\n",
       "      <th>learning_rate</th>\n",
       "      <th>learning_schedule</th>\n",
       "      <th>loss</th>\n",
       "      <th>max_sampled</th>\n",
       "      <th>model_name</th>\n",
       "      <th>n</th>\n",
       "      <th>no_components</th>\n",
       "      <th>random_state</th>\n",
       "      <th>rho</th>\n",
       "      <th>time</th>\n",
       "      <th>user_alpha</th>\n",
       "    </tr>\n",
       "  </thead>\n",
       "  <tbody>\n",
       "    <tr>\n",
       "      <th>0</th>\n",
       "      <td>20.0</td>\n",
       "      <td>0.072371</td>\n",
       "      <td>0.296986</td>\n",
       "      <td>0.878090</td>\n",
       "      <td>0.905723</td>\n",
       "      <td>5.0</td>\n",
       "      <td>0.000001</td>\n",
       "      <td>0.0</td>\n",
       "      <td>5.0</td>\n",
       "      <td>0.05</td>\n",
       "      <td>adagrad</td>\n",
       "      <td>bpr</td>\n",
       "      <td>10.0</td>\n",
       "      <td>PureCF</td>\n",
       "      <td>10.0</td>\n",
       "      <td>5.0</td>\n",
       "      <td>RandomState(MT19937)</td>\n",
       "      <td>0.95</td>\n",
       "      <td>292.130097</td>\n",
       "      <td>0.0</td>\n",
       "    </tr>\n",
       "    <tr>\n",
       "      <th>1</th>\n",
       "      <td>20.0</td>\n",
       "      <td>0.080496</td>\n",
       "      <td>0.291714</td>\n",
       "      <td>0.990084</td>\n",
       "      <td>0.991896</td>\n",
       "      <td>5.0</td>\n",
       "      <td>0.000001</td>\n",
       "      <td>0.0</td>\n",
       "      <td>5.0</td>\n",
       "      <td>0.05</td>\n",
       "      <td>adagrad</td>\n",
       "      <td>warp</td>\n",
       "      <td>10.0</td>\n",
       "      <td>PureCF</td>\n",
       "      <td>10.0</td>\n",
       "      <td>5.0</td>\n",
       "      <td>RandomState(MT19937)</td>\n",
       "      <td>0.95</td>\n",
       "      <td>281.964475</td>\n",
       "      <td>0.0</td>\n",
       "    </tr>\n",
       "    <tr>\n",
       "      <th>2</th>\n",
       "      <td>20.0</td>\n",
       "      <td>0.066677</td>\n",
       "      <td>0.316345</td>\n",
       "      <td>0.877836</td>\n",
       "      <td>0.917226</td>\n",
       "      <td>5.0</td>\n",
       "      <td>0.000001</td>\n",
       "      <td>0.0</td>\n",
       "      <td>5.0</td>\n",
       "      <td>0.05</td>\n",
       "      <td>adagrad</td>\n",
       "      <td>bpr</td>\n",
       "      <td>10.0</td>\n",
       "      <td>PureCF</td>\n",
       "      <td>10.0</td>\n",
       "      <td>10.0</td>\n",
       "      <td>RandomState(MT19937)</td>\n",
       "      <td>0.95</td>\n",
       "      <td>380.377757</td>\n",
       "      <td>0.0</td>\n",
       "    </tr>\n",
       "    <tr>\n",
       "      <th>3</th>\n",
       "      <td>20.0</td>\n",
       "      <td>0.081573</td>\n",
       "      <td>0.297219</td>\n",
       "      <td>0.990511</td>\n",
       "      <td>0.992755</td>\n",
       "      <td>5.0</td>\n",
       "      <td>0.000001</td>\n",
       "      <td>0.0</td>\n",
       "      <td>5.0</td>\n",
       "      <td>0.05</td>\n",
       "      <td>adagrad</td>\n",
       "      <td>warp</td>\n",
       "      <td>10.0</td>\n",
       "      <td>PureCF</td>\n",
       "      <td>10.0</td>\n",
       "      <td>10.0</td>\n",
       "      <td>RandomState(MT19937)</td>\n",
       "      <td>0.95</td>\n",
       "      <td>360.961698</td>\n",
       "      <td>0.0</td>\n",
       "    </tr>\n",
       "    <tr>\n",
       "      <th>4</th>\n",
       "      <td>20.0</td>\n",
       "      <td>0.064585</td>\n",
       "      <td>0.329687</td>\n",
       "      <td>0.875677</td>\n",
       "      <td>0.921658</td>\n",
       "      <td>5.0</td>\n",
       "      <td>0.000001</td>\n",
       "      <td>0.0</td>\n",
       "      <td>5.0</td>\n",
       "      <td>0.05</td>\n",
       "      <td>adagrad</td>\n",
       "      <td>bpr</td>\n",
       "      <td>10.0</td>\n",
       "      <td>PureCF</td>\n",
       "      <td>10.0</td>\n",
       "      <td>15.0</td>\n",
       "      <td>RandomState(MT19937)</td>\n",
       "      <td>0.95</td>\n",
       "      <td>1953.422823</td>\n",
       "      <td>0.0</td>\n",
       "    </tr>\n",
       "    <tr>\n",
       "      <th>5</th>\n",
       "      <td>20.0</td>\n",
       "      <td>0.083727</td>\n",
       "      <td>0.307076</td>\n",
       "      <td>0.990871</td>\n",
       "      <td>0.993375</td>\n",
       "      <td>5.0</td>\n",
       "      <td>0.000001</td>\n",
       "      <td>0.0</td>\n",
       "      <td>5.0</td>\n",
       "      <td>0.05</td>\n",
       "      <td>adagrad</td>\n",
       "      <td>warp</td>\n",
       "      <td>10.0</td>\n",
       "      <td>PureCF</td>\n",
       "      <td>10.0</td>\n",
       "      <td>15.0</td>\n",
       "      <td>RandomState(MT19937)</td>\n",
       "      <td>0.95</td>\n",
       "      <td>378.786015</td>\n",
       "      <td>0.0</td>\n",
       "    </tr>\n",
       "    <tr>\n",
       "      <th>6</th>\n",
       "      <td>20.0</td>\n",
       "      <td>0.062505</td>\n",
       "      <td>0.337950</td>\n",
       "      <td>0.873299</td>\n",
       "      <td>0.926864</td>\n",
       "      <td>5.0</td>\n",
       "      <td>0.000001</td>\n",
       "      <td>0.0</td>\n",
       "      <td>5.0</td>\n",
       "      <td>0.05</td>\n",
       "      <td>adagrad</td>\n",
       "      <td>bpr</td>\n",
       "      <td>10.0</td>\n",
       "      <td>PureCF</td>\n",
       "      <td>10.0</td>\n",
       "      <td>20.0</td>\n",
       "      <td>RandomState(MT19937)</td>\n",
       "      <td>0.95</td>\n",
       "      <td>478.389595</td>\n",
       "      <td>0.0</td>\n",
       "    </tr>\n",
       "    <tr>\n",
       "      <th>7</th>\n",
       "      <td>20.0</td>\n",
       "      <td>0.084045</td>\n",
       "      <td>0.310019</td>\n",
       "      <td>0.990984</td>\n",
       "      <td>0.993725</td>\n",
       "      <td>5.0</td>\n",
       "      <td>0.000001</td>\n",
       "      <td>0.0</td>\n",
       "      <td>5.0</td>\n",
       "      <td>0.05</td>\n",
       "      <td>adagrad</td>\n",
       "      <td>warp</td>\n",
       "      <td>10.0</td>\n",
       "      <td>PureCF</td>\n",
       "      <td>10.0</td>\n",
       "      <td>20.0</td>\n",
       "      <td>RandomState(MT19937)</td>\n",
       "      <td>0.95</td>\n",
       "      <td>491.066578</td>\n",
       "      <td>0.0</td>\n",
       "    </tr>\n",
       "    <tr>\n",
       "      <th>8</th>\n",
       "      <td>20.0</td>\n",
       "      <td>0.060892</td>\n",
       "      <td>0.346628</td>\n",
       "      <td>0.866896</td>\n",
       "      <td>0.929252</td>\n",
       "      <td>5.0</td>\n",
       "      <td>0.000001</td>\n",
       "      <td>0.0</td>\n",
       "      <td>5.0</td>\n",
       "      <td>0.05</td>\n",
       "      <td>adagrad</td>\n",
       "      <td>bpr</td>\n",
       "      <td>10.0</td>\n",
       "      <td>PureCF</td>\n",
       "      <td>10.0</td>\n",
       "      <td>25.0</td>\n",
       "      <td>RandomState(MT19937)</td>\n",
       "      <td>0.95</td>\n",
       "      <td>586.683666</td>\n",
       "      <td>0.0</td>\n",
       "    </tr>\n",
       "    <tr>\n",
       "      <th>9</th>\n",
       "      <td>20.0</td>\n",
       "      <td>0.084643</td>\n",
       "      <td>0.313776</td>\n",
       "      <td>0.991106</td>\n",
       "      <td>0.994108</td>\n",
       "      <td>5.0</td>\n",
       "      <td>0.000001</td>\n",
       "      <td>0.0</td>\n",
       "      <td>5.0</td>\n",
       "      <td>0.05</td>\n",
       "      <td>adagrad</td>\n",
       "      <td>warp</td>\n",
       "      <td>10.0</td>\n",
       "      <td>PureCF</td>\n",
       "      <td>10.0</td>\n",
       "      <td>25.0</td>\n",
       "      <td>RandomState(MT19937)</td>\n",
       "      <td>0.95</td>\n",
       "      <td>584.724471</td>\n",
       "      <td>0.0</td>\n",
       "    </tr>\n",
       "    <tr>\n",
       "      <th>10</th>\n",
       "      <td>20.0</td>\n",
       "      <td>0.059042</td>\n",
       "      <td>0.352837</td>\n",
       "      <td>0.863437</td>\n",
       "      <td>0.932556</td>\n",
       "      <td>5.0</td>\n",
       "      <td>0.000001</td>\n",
       "      <td>0.0</td>\n",
       "      <td>5.0</td>\n",
       "      <td>0.05</td>\n",
       "      <td>adagrad</td>\n",
       "      <td>bpr</td>\n",
       "      <td>10.0</td>\n",
       "      <td>PureCF</td>\n",
       "      <td>10.0</td>\n",
       "      <td>30.0</td>\n",
       "      <td>RandomState(MT19937)</td>\n",
       "      <td>0.95</td>\n",
       "      <td>646.185900</td>\n",
       "      <td>0.0</td>\n",
       "    </tr>\n",
       "    <tr>\n",
       "      <th>11</th>\n",
       "      <td>20.0</td>\n",
       "      <td>0.084210</td>\n",
       "      <td>0.313183</td>\n",
       "      <td>0.991049</td>\n",
       "      <td>0.994114</td>\n",
       "      <td>5.0</td>\n",
       "      <td>0.000001</td>\n",
       "      <td>0.0</td>\n",
       "      <td>5.0</td>\n",
       "      <td>0.05</td>\n",
       "      <td>adagrad</td>\n",
       "      <td>warp</td>\n",
       "      <td>10.0</td>\n",
       "      <td>PureCF</td>\n",
       "      <td>10.0</td>\n",
       "      <td>30.0</td>\n",
       "      <td>RandomState(MT19937)</td>\n",
       "      <td>0.95</td>\n",
       "      <td>650.884106</td>\n",
       "      <td>0.0</td>\n",
       "    </tr>\n",
       "  </tbody>\n",
       "</table>\n",
       "</div>"
      ],
      "text/plain": [
       "      @K  MAP_test  MAP_train  auc_test  auc_train  epochs   epsilon  \\\n",
       "0   20.0  0.072371   0.296986  0.878090   0.905723     5.0  0.000001   \n",
       "1   20.0  0.080496   0.291714  0.990084   0.991896     5.0  0.000001   \n",
       "2   20.0  0.066677   0.316345  0.877836   0.917226     5.0  0.000001   \n",
       "3   20.0  0.081573   0.297219  0.990511   0.992755     5.0  0.000001   \n",
       "4   20.0  0.064585   0.329687  0.875677   0.921658     5.0  0.000001   \n",
       "5   20.0  0.083727   0.307076  0.990871   0.993375     5.0  0.000001   \n",
       "6   20.0  0.062505   0.337950  0.873299   0.926864     5.0  0.000001   \n",
       "7   20.0  0.084045   0.310019  0.990984   0.993725     5.0  0.000001   \n",
       "8   20.0  0.060892   0.346628  0.866896   0.929252     5.0  0.000001   \n",
       "9   20.0  0.084643   0.313776  0.991106   0.994108     5.0  0.000001   \n",
       "10  20.0  0.059042   0.352837  0.863437   0.932556     5.0  0.000001   \n",
       "11  20.0  0.084210   0.313183  0.991049   0.994114     5.0  0.000001   \n",
       "\n",
       "    item_alpha    k  learning_rate learning_schedule  loss  max_sampled  \\\n",
       "0          0.0  5.0           0.05           adagrad   bpr         10.0   \n",
       "1          0.0  5.0           0.05           adagrad  warp         10.0   \n",
       "2          0.0  5.0           0.05           adagrad   bpr         10.0   \n",
       "3          0.0  5.0           0.05           adagrad  warp         10.0   \n",
       "4          0.0  5.0           0.05           adagrad   bpr         10.0   \n",
       "5          0.0  5.0           0.05           adagrad  warp         10.0   \n",
       "6          0.0  5.0           0.05           adagrad   bpr         10.0   \n",
       "7          0.0  5.0           0.05           adagrad  warp         10.0   \n",
       "8          0.0  5.0           0.05           adagrad   bpr         10.0   \n",
       "9          0.0  5.0           0.05           adagrad  warp         10.0   \n",
       "10         0.0  5.0           0.05           adagrad   bpr         10.0   \n",
       "11         0.0  5.0           0.05           adagrad  warp         10.0   \n",
       "\n",
       "   model_name     n  no_components          random_state   rho         time  \\\n",
       "0      PureCF  10.0            5.0  RandomState(MT19937)  0.95   292.130097   \n",
       "1      PureCF  10.0            5.0  RandomState(MT19937)  0.95   281.964475   \n",
       "2      PureCF  10.0           10.0  RandomState(MT19937)  0.95   380.377757   \n",
       "3      PureCF  10.0           10.0  RandomState(MT19937)  0.95   360.961698   \n",
       "4      PureCF  10.0           15.0  RandomState(MT19937)  0.95  1953.422823   \n",
       "5      PureCF  10.0           15.0  RandomState(MT19937)  0.95   378.786015   \n",
       "6      PureCF  10.0           20.0  RandomState(MT19937)  0.95   478.389595   \n",
       "7      PureCF  10.0           20.0  RandomState(MT19937)  0.95   491.066578   \n",
       "8      PureCF  10.0           25.0  RandomState(MT19937)  0.95   586.683666   \n",
       "9      PureCF  10.0           25.0  RandomState(MT19937)  0.95   584.724471   \n",
       "10     PureCF  10.0           30.0  RandomState(MT19937)  0.95   646.185900   \n",
       "11     PureCF  10.0           30.0  RandomState(MT19937)  0.95   650.884106   \n",
       "\n",
       "    user_alpha  \n",
       "0          0.0  \n",
       "1          0.0  \n",
       "2          0.0  \n",
       "3          0.0  \n",
       "4          0.0  \n",
       "5          0.0  \n",
       "6          0.0  \n",
       "7          0.0  \n",
       "8          0.0  \n",
       "9          0.0  \n",
       "10         0.0  \n",
       "11         0.0  "
      ]
     },
     "execution_count": 204,
     "metadata": {},
     "output_type": "execute_result"
    }
   ],
   "source": [
    "param_search_df"
   ]
  },
  {
   "cell_type": "code",
   "execution_count": 230,
   "metadata": {},
   "outputs": [],
   "source": [
    "possible_parameters =    {\n",
    "                        'no_components': [35, 40, 50, 60, 70, 80],\n",
    "#                         'no_components': [20,30,40,50,60,70,80],\n",
    "#                         'learning_schedule': ['adagrad','adadelta'],\n",
    "                        'loss': ['bpr','warp'],\n",
    "#                         'learning_rate': [0.05,0.01,0.005,0.001],\n",
    "#                         'rho': [0.99,0.97,0.95,0.92,0.90,0.87,0.85,0.82,0.80],\n",
    "#                         'epsilon': [1e-3,1e-04,1e-05,1e-06,1e-07],\n",
    "#                         'item_alpha': [0.1,0.05,0.01,0.005,0.001,0.0005,0.0001],\n",
    "#                         'user_alpha': [0.1,0.05,0.01,0.005,0.001,0.0005,0.0001],\n",
    "                        'random_state': [1]\n",
    "                        }"
   ]
  },
  {
   "cell_type": "code",
   "execution_count": 231,
   "metadata": {},
   "outputs": [
    {
     "data": {
      "text/plain": [
       "[{'no_components': 35, 'loss': 'bpr', 'random_state': 1},\n",
       " {'no_components': 35, 'loss': 'warp', 'random_state': 1},\n",
       " {'no_components': 40, 'loss': 'bpr', 'random_state': 1},\n",
       " {'no_components': 40, 'loss': 'warp', 'random_state': 1},\n",
       " {'no_components': 50, 'loss': 'bpr', 'random_state': 1},\n",
       " {'no_components': 50, 'loss': 'warp', 'random_state': 1},\n",
       " {'no_components': 60, 'loss': 'bpr', 'random_state': 1},\n",
       " {'no_components': 60, 'loss': 'warp', 'random_state': 1},\n",
       " {'no_components': 70, 'loss': 'bpr', 'random_state': 1},\n",
       " {'no_components': 70, 'loss': 'warp', 'random_state': 1},\n",
       " {'no_components': 80, 'loss': 'bpr', 'random_state': 1},\n",
       " {'no_components': 80, 'loss': 'warp', 'random_state': 1}]"
      ]
     },
     "execution_count": 231,
     "metadata": {},
     "output_type": "execute_result"
    }
   ],
   "source": [
    "parameter_combinations = [dict(zip(possible_parameters.keys(), values)) \\\n",
    "                              for values in product(*possible_parameters.values())]\n",
    "parameter_combinations"
   ]
  },
  {
   "cell_type": "code",
   "execution_count": 160,
   "metadata": {},
   "outputs": [],
   "source": [
    "def hyperparameter_search(model_name, parameter_combinations, train_interactions, test_interactions, item_features=None, k=20, epochs=5, num_threads=2, verbose=False):\n",
    "    for parameters in parameter_combinations:\n",
    "        start_time = time.time()\n",
    "        model = LightFM(**parameters)\n",
    "        model.fit(train_interactions, \n",
    "                  item_features=item_features,\n",
    "                  epochs=epochs,\n",
    "                  num_threads=num_threads)\n",
    "        auc_train = auc_score(model, train_interactions, item_features=item_features, num_threads=num_threads).mean()\n",
    "        auc_test = auc_score(model, test_interactions, item_features=item_features, num_threads=num_threads).mean()\n",
    "        precision_train = precision_at_k(model, train_interactions, item_features=item_features, k=k, num_threads=num_threads).mean()\n",
    "        precision_test = precision_at_k(model, test_interactions, item_features=item_features, k=k, num_threads=num_threads).mean()\n",
    "        params = model.get_params()\n",
    "        params['model_name'] = model_name\n",
    "        params['auc_train'] = auc_train\n",
    "        params['auc_test'] = auc_test\n",
    "        params['@K'] = k\n",
    "        params['MAP_train'] = precision_train\n",
    "        params['MAP_test'] = precision_test\n",
    "        params['epochs'] = epochs\n",
    "        params['time'] = time.time() - start_time\n",
    "        global param_search_df\n",
    "        param_search_df = param_search_df.append(params, ignore_index=True)\n",
    "        if verbose==True:\n",
    "            print('Training complete for one set of parameters. Time taken: {}'.format(params['time']))"
   ]
  },
  {
   "cell_type": "markdown",
   "metadata": {},
   "source": [
    "- PureCF"
   ]
  },
  {
   "cell_type": "code",
   "execution_count": 161,
   "metadata": {
    "scrolled": true
   },
   "outputs": [
    {
     "name": "stdout",
     "output_type": "stream",
     "text": [
      "Training complete for one set of parameters. Time taken: 292.13009667396545\n",
      "Training complete for one set of parameters. Time taken: 281.96447491645813\n",
      "Training complete for one set of parameters. Time taken: 380.37775707244873\n",
      "Training complete for one set of parameters. Time taken: 360.96169805526733\n",
      "Training complete for one set of parameters. Time taken: 1953.4228229522705\n",
      "Training complete for one set of parameters. Time taken: 378.7860150337219\n",
      "Training complete for one set of parameters. Time taken: 478.3895950317383\n",
      "Training complete for one set of parameters. Time taken: 491.06657791137695\n",
      "Training complete for one set of parameters. Time taken: 586.6836659908295\n",
      "Training complete for one set of parameters. Time taken: 584.7244710922241\n",
      "Training complete for one set of parameters. Time taken: 646.1858999729156\n",
      "Training complete for one set of parameters. Time taken: 650.8841059207916\n"
     ]
    }
   ],
   "source": [
    "hyperparameter_search(\"PureCF\", parameter_combinations, train_interactions1, test_interactions1, verbose=True)"
   ]
  },
  {
   "cell_type": "code",
   "execution_count": 205,
   "metadata": {},
   "outputs": [],
   "source": [
    "param_search_df.to_csv(\"lightfm_param_search.csv\")"
   ]
  },
  {
   "cell_type": "code",
   "execution_count": 178,
   "metadata": {},
   "outputs": [
    {
     "data": {
      "image/png": "[encoded data removed]",
      "text/plain": [
       "<Figure size 432x288 with 1 Axes>"
      ]
     },
     "metadata": {
      "needs_background": "light"
     },
     "output_type": "display_data"
    }
   ],
   "source": [
    "x1 = param_search_df[param_search_df.loss==\"warp\"].no_components\n",
    "y1 = param_search_df[param_search_df.loss==\"warp\"].auc_train\n",
    "plt.plot(x1, y1, label = \"warp_auc_train\")\n",
    "x2 = param_search_df[param_search_df.loss==\"warp\"].no_components\n",
    "y2 = param_search_df[param_search_df.loss==\"warp\"].auc_test\n",
    "plt.plot(x2, y2, label = \"warp_auc_test\")\n",
    "plt.legend()\n",
    "plt.show()"
   ]
  },
  {
   "cell_type": "markdown",
   "metadata": {},
   "source": [
    "no_components = 25 is best for warp"
   ]
  },
  {
   "cell_type": "code",
   "execution_count": 179,
   "metadata": {
    "scrolled": true
   },
   "outputs": [
    {
     "data": {
      "text/plain": [
       "[<matplotlib.lines.Line2D at 0x7faf31407df0>]"
      ]
     },
     "execution_count": 179,
     "metadata": {},
     "output_type": "execute_result"
    },
    {
     "data": {
      "image/png": "[encoded data removed]",
      "text/plain": [
       "<Figure size 432x288 with 1 Axes>"
      ]
     },
     "metadata": {
      "needs_background": "light"
     },
     "output_type": "display_data"
    }
   ],
   "source": [
    "x3 = param_search_df[param_search_df.loss==\"bpr\"].no_components\n",
    "y3 = param_search_df[param_search_df.loss==\"bpr\"].auc_train\n",
    "plt.plot(x3, y3, label = \"bpr_auc_train\")\n",
    "x4 = param_search_df[param_search_df.loss==\"bpr\"].no_components\n",
    "y4 = param_search_df[param_search_df.loss==\"bpr\"].auc_test\n",
    "plt.plot(x4, y4, label = \"bpr_auc_test\")"
   ]
  },
  {
   "cell_type": "markdown",
   "metadata": {},
   "source": [
    "no_components = 5 is best for bpr"
   ]
  },
  {
   "cell_type": "markdown",
   "metadata": {},
   "source": [
    "Generally warp is better than bpr for test result."
   ]
  },
  {
   "cell_type": "code",
   "execution_count": 177,
   "metadata": {},
   "outputs": [
    {
     "data": {
      "image/png": "[encoded data removed]",
      "text/plain": [
       "<Figure size 432x288 with 1 Axes>"
      ]
     },
     "metadata": {
      "needs_background": "light"
     },
     "output_type": "display_data"
    }
   ],
   "source": [
    "x1 = param_search_df[param_search_df.loss==\"warp\"].no_components\n",
    "y1 = param_search_df[param_search_df.loss==\"warp\"].MAP_train\n",
    "plt.plot(x1, y1, label = \"warp_MAP_train\")\n",
    "x2 = param_search_df[param_search_df.loss==\"warp\"].no_components\n",
    "y2 = param_search_df[param_search_df.loss==\"warp\"].MAP_test\n",
    "plt.plot(x1, y2, label = \"warp_MAP_test\")\n",
    "x3 = param_search_df[param_search_df.loss==\"bpr\"].no_components\n",
    "y3 = param_search_df[param_search_df.loss==\"bpr\"].MAP_train\n",
    "plt.plot(x3, y3, label = \"bpr_MAP_train\")\n",
    "x4 = param_search_df[param_search_df.loss==\"bpr\"].no_components\n",
    "y4 = param_search_df[param_search_df.loss==\"bpr\"].MAP_test\n",
    "plt.plot(x4, y4, label = \"bpr_MAP_test\")\n",
    "plt.legend()\n",
    "plt.show()"
   ]
  },
  {
   "cell_type": "markdown",
   "metadata": {},
   "source": [
    "- Hybrid"
   ]
  },
  {
   "cell_type": "code",
   "execution_count": null,
   "metadata": {},
   "outputs": [
    {
     "name": "stdout",
     "output_type": "stream",
     "text": [
      "Training complete for one set of parameters. Time taken: 617.0411319732666\n",
      "Training complete for one set of parameters. Time taken: 593.3146090507507\n",
      "Training complete for one set of parameters. Time taken: 727.3680787086487\n",
      "Training complete for one set of parameters. Time taken: 720.9481649398804\n",
      "Training complete for one set of parameters. Time taken: 953.0193419456482\n"
     ]
    }
   ],
   "source": [
    "hyperparameter_search(\"Hybrid_genres\", parameter_combinations, train_interactions2, test_interactions2, item_features=item_features,verbose=True)"
   ]
  },
  {
   "cell_type": "code",
   "execution_count": null,
   "metadata": {},
   "outputs": [],
   "source": [
    "hyperparameter_search(\"Hybrid_features_genres_normalized\", parameter_combinations, train_interactions3, test_interactions3, item_features=item_features2, verbose=True)"
   ]
  },
  {
   "cell_type": "code",
   "execution_count": null,
   "metadata": {},
   "outputs": [],
   "source": [
    "param_search_df[param_search_df.model_name == \"PureCF\"].describe()"
   ]
  },
  {
   "cell_type": "code",
   "execution_count": null,
   "metadata": {
    "scrolled": true
   },
   "outputs": [],
   "source": [
    "param_search_df[param_search_df.model_name == \"Hybrid_genres\"].describe()"
   ]
  },
  {
   "cell_type": "code",
   "execution_count": null,
   "metadata": {},
   "outputs": [],
   "source": [
    "param_search_df[param_search_df.model_name == \"Hybrid_features_genres_normalized\"].describe()"
   ]
  },
  {
   "cell_type": "code",
   "execution_count": null,
   "metadata": {},
   "outputs": [],
   "source": [
    "param_search_df"
   ]
  },
  {
   "cell_type": "markdown",
   "metadata": {},
   "source": [
    "## Model Evaluation using MAP@K\n",
    "Mean average precision(MAP)@K and AUC score"
   ]
  },
  {
   "cell_type": "code",
   "execution_count": null,
   "metadata": {
    "scrolled": true
   },
   "outputs": [],
   "source": [
    "train_auc = auc_score(pure_cf, train_interactions).mean()\n",
    "test_auc = auc_score(pure_cf, test_interactions).mean()\n",
    "print('AUC: train %.2f, test %.2f.' % (train_auc, test_auc))"
   ]
  },
  {
   "cell_type": "code",
   "execution_count": null,
   "metadata": {},
   "outputs": [],
   "source": [
    "train_precision = precision_at_k(pure_cf, train_interactions, k=10).mean()\n",
    "test_precision = precision_at_k(pure_cf, test_interactions,k=10).mean()\n",
    "print('Precision: train %.2f, test %.2f.' % (train_precision, test_precision))"
   ]
  },
  {
   "cell_type": "code",
   "execution_count": null,
   "metadata": {
    "scrolled": true
   },
   "outputs": [],
   "source": [
    "train_auc = auc_score(hybrid_model, train_interactions, item_features=item_features).mean()\n",
    "test_auc = auc_score(hybrid_model, test_interactions, item_features=item_features).mean()\n",
    "print('AUC: train %.2f, test %.2f.' % (train_auc, test_auc))"
   ]
  },
  {
   "cell_type": "code",
   "execution_count": null,
   "metadata": {},
   "outputs": [],
   "source": [
    "train_precision = precision_at_k(hybrid_model, train_interactions, item_features=item_features, k=10).mean()\n",
    "test_precision = precision_at_k(hybrid_model, test_interactions, item_features=item_features, k=10).mean()\n",
    "print('Precision: train %.2f, test %.2f.' % (train_precision, test_precision))"
   ]
  },
  {
   "cell_type": "markdown",
   "metadata": {},
   "source": [
    "## Make recommendations"
   ]
  },
  {
   "cell_type": "markdown",
   "metadata": {},
   "source": [
    "- get userid/itemid/features mappings"
   ]
  },
  {
   "cell_type": "code",
   "execution_count": null,
   "metadata": {},
   "outputs": [],
   "source": [
    "# set the dataset to the final dataset used\n",
    "dataset = dataset1"
   ]
  },
  {
   "cell_type": "code",
   "execution_count": null,
   "metadata": {},
   "outputs": [],
   "source": [
    "# mappings: (user id map, user feature map, item id map, item feature map)\n",
    "mapping = dataset.mapping()"
   ]
  },
  {
   "cell_type": "code",
   "execution_count": null,
   "metadata": {},
   "outputs": [],
   "source": [
    "item_features_mapping = mapping[3]\n",
    "item_features_mapping"
   ]
  },
  {
   "cell_type": "code",
   "execution_count": null,
   "metadata": {
    "scrolled": true
   },
   "outputs": [],
   "source": [
    "# series used to use index(internal id) to locate the real id\n",
    "user_series = pd.Series(mapping[0])\n",
    "item_series = pd.Series(mapping[2])"
   ]
  },
  {
   "cell_type": "code",
   "execution_count": null,
   "metadata": {},
   "outputs": [],
   "source": [
    "def getInternalId(real_id, series):\n",
    "    return series[real_id]"
   ]
  },
  {
   "cell_type": "code",
   "execution_count": null,
   "metadata": {},
   "outputs": [],
   "source": [
    "def getRawId(internal_id, series):\n",
    "    return series[series == internal_id].index[0]"
   ]
  },
  {
   "cell_type": "code",
   "execution_count": null,
   "metadata": {},
   "outputs": [],
   "source": [
    "# raw id to internal id\n",
    "getInternalId(76561198007712555, user_series)"
   ]
  },
  {
   "cell_type": "code",
   "execution_count": null,
   "metadata": {
    "scrolled": false
   },
   "outputs": [],
   "source": [
    "getRawId(68398, user_series)"
   ]
  },
  {
   "cell_type": "markdown",
   "metadata": {},
   "source": [
    "- Make recommendations"
   ]
  },
  {
   "cell_type": "code",
   "execution_count": null,
   "metadata": {},
   "outputs": [],
   "source": [
    "# print(\"Train precision: %.2f\" % precision_at_k(pure_cf, data['train'], k=5).mean())\n",
    "# print(\"Test precision: %.2f\" % precision_at_k(pure_cf, data['test'], k=5).mean())"
   ]
  },
  {
   "cell_type": "code",
   "execution_count": null,
   "metadata": {},
   "outputs": [],
   "source": [
    "user_id = 76561197970982479"
   ]
  },
  {
   "cell_type": "code",
   "execution_count": null,
   "metadata": {},
   "outputs": [],
   "source": [
    "n_users, n_items = interactions.shape\n",
    "internal_user_id = getInternalId(user_id, user_series)\n",
    "all_scores = pd.Series(hybrid_model.predict(internal_user_id, np.arange(n_items)))"
   ]
  },
  {
   "cell_type": "code",
   "execution_count": null,
   "metadata": {
    "scrolled": true
   },
   "outputs": [],
   "source": [
    "all_scores"
   ]
  },
  {
   "cell_type": "code",
   "execution_count": null,
   "metadata": {},
   "outputs": [],
   "source": [
    "# scores.index = np.arange(n_items)\n",
    "all_ranks = list(pd.Series(all_scores.sort_values(ascending=False).index))"
   ]
  },
  {
   "cell_type": "code",
   "execution_count": null,
   "metadata": {},
   "outputs": [],
   "source": [
    "all_ranks"
   ]
  },
  {
   "cell_type": "code",
   "execution_count": null,
   "metadata": {},
   "outputs": [],
   "source": [
    "known_items = user_item_df[user_item_df.steam_id == user_id].item_id.sort_values()"
   ]
  },
  {
   "cell_type": "code",
   "execution_count": null,
   "metadata": {},
   "outputs": [],
   "source": [
    "known_items_internal_ids = known_items.apply(getInternalId, args=(item_series,))"
   ]
  },
  {
   "cell_type": "code",
   "execution_count": null,
   "metadata": {},
   "outputs": [],
   "source": [
    "ranks = [x for x in all_ranks if x not in known_items]"
   ]
  },
  {
   "cell_type": "code",
   "execution_count": null,
   "metadata": {},
   "outputs": [],
   "source": [
    "ranks"
   ]
  },
  {
   "cell_type": "code",
   "execution_count": null,
   "metadata": {},
   "outputs": [],
   "source": [
    "recommended_list = ranks[0:10]"
   ]
  },
  {
   "cell_type": "code",
   "execution_count": null,
   "metadata": {
    "scrolled": true
   },
   "outputs": [],
   "source": [
    "recommended_list_ids = [getRawId(id, item_series) for id in recommended_list]"
   ]
  },
  {
   "cell_type": "code",
   "execution_count": null,
   "metadata": {},
   "outputs": [],
   "source": [
    "known_items_names = all_games.loc[all_games['item_id'].isin(known_items)]\n",
    "known_items_names[:10]"
   ]
  },
  {
   "cell_type": "code",
   "execution_count": null,
   "metadata": {},
   "outputs": [],
   "source": [
    "recommended_items_names = all_games.loc[all_games['item_id'].isin(recommended_list_ids)]\n",
    "recommended_items_names"
   ]
  },
  {
   "cell_type": "code",
   "execution_count": null,
   "metadata": {},
   "outputs": [],
   "source": []
  }
 ],
 "metadata": {
  "kernelspec": {
   "display_name": "Python 3",
   "language": "python",
   "name": "python3"
  },
  "language_info": {
   "codemirror_mode": {
    "name": "ipython",
    "version": 3
   },
   "file_extension": ".py",
   "mimetype": "text/x-python",
   "name": "python",
   "nbconvert_exporter": "python",
   "pygments_lexer": "ipython3",
   "version": "3.8.3"
  }
 },
 "nbformat": 4,
 "nbformat_minor": 4
}
